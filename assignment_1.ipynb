{
 "cells": [
  {
   "cell_type": "markdown",
   "id": "87b91d83",
   "metadata": {},
   "source": [
    "# Assignment 1\n",
    "### Understanding Uncertainty\n",
    "### Due 9/5"
   ]
  },
  {
   "cell_type": "markdown",
   "id": "380e339f",
   "metadata": {},
   "source": [
    "1. Create a new public repo on Github under your account. Include a readme file.\n",
    "2. Clone it to your machine. Put this file into that repo.\n",
    "3. Use the following function to download the example data for the course:"
   ]
  },
  {
   "cell_type": "code",
   "execution_count": 1,
   "id": "2d62b4f6",
   "metadata": {},
   "outputs": [
    {
     "name": "stdout",
     "output_type": "stream",
     "text": [
      "Downloading course data\n",
      "Download complete\n",
      "Extracting data files...\n",
      "Data extracted\n"
     ]
    }
   ],
   "source": [
    "def download_data(force=False):\n",
    "    \"\"\"Download and extract course data from Zenodo.\"\"\"\n",
    "    import urllib.request, zipfile, os\n",
    "    \n",
    "    zip_path = 'data.zip'\n",
    "    data_dir = 'data'\n",
    "    \n",
    "    if not os.path.exists(zip_path) or force:\n",
    "        print(\"Downloading course data\")\n",
    "        urllib.request.urlretrieve(\n",
    "            'https://zenodo.org/records/16954427/files/data.zip?download=1',\n",
    "            zip_path\n",
    "        )\n",
    "        print(\"Download complete\")\n",
    "    else:\n",
    "        print(\"Download file already exists\")\n",
    "        \n",
    "    if not os.path.exists(data_dir) or force:\n",
    "        print(\"Extracting data files...\")\n",
    "        with zipfile.ZipFile(zip_path, 'r') as zip_ref:\n",
    "            zip_ref.extractall(data_dir)\n",
    "        print(\"Data extracted\")\n",
    "    else:\n",
    "        print(\"Data directory already exists\")\n",
    "\n",
    "download_data()"
   ]
  },
  {
   "cell_type": "markdown",
   "id": "01db0045",
   "metadata": {},
   "source": [
    "4. Open one of the datasets using Pandas:\n",
    "    1. `ames_prices.csv`: Housing characteristics and prices\n",
    "    2. `college_completion.csv`: Public, nonprofit, and for-profit educational institutions, graduation rates, and financial aid\n",
    "    3. `ForeignGifts_edu.csv`: Monetary and in-kind transfers from foreign entities to U.S. educational institutions\n",
    "    4. `iowa.csv`: Liquor sales in Iowa, at the transaction level\n",
    "    5. `metabric.csv`: Cancer patient and outcome data\n",
    "    6. `mn_police_use_of_force.csv`: Records of physical altercations between Minnessota police and private citizens\n",
    "    7. `nhanes_data_17_18.csv`: National Health and Nutrition Examination Survey\n",
    "    8. `tuna.csv`: Yellowfin Tuna Genome (I don't recommend this one; it's just a sequence of G, C, A, T )\n",
    "    9. `va_procurement.csv`: Public spending by the state of Virginia"
   ]
  },
  {
   "cell_type": "code",
   "execution_count": 11,
   "id": "a2c63add",
   "metadata": {},
   "outputs": [],
   "source": [
    "import pandas as pd\n",
    "import numpy as np\n",
    "import os"
   ]
  },
  {
   "cell_type": "code",
   "execution_count": 17,
   "id": "6faad32e",
   "metadata": {},
   "outputs": [
    {
     "data": {
      "text/html": [
       "<div>\n",
       "<style scoped>\n",
       "    .dataframe tbody tr th:only-of-type {\n",
       "        vertical-align: middle;\n",
       "    }\n",
       "\n",
       "    .dataframe tbody tr th {\n",
       "        vertical-align: top;\n",
       "    }\n",
       "\n",
       "    .dataframe thead th {\n",
       "        text-align: right;\n",
       "    }\n",
       "</style>\n",
       "<table border=\"1\" class=\"dataframe\">\n",
       "  <thead>\n",
       "    <tr style=\"text-align: right;\">\n",
       "      <th></th>\n",
       "      <th>Invoice/Item Number</th>\n",
       "      <th>Date</th>\n",
       "      <th>Store Number</th>\n",
       "      <th>Store Name</th>\n",
       "      <th>Zip Code</th>\n",
       "      <th>Category Name</th>\n",
       "      <th>Vendor Name</th>\n",
       "      <th>Item Number</th>\n",
       "      <th>Item Description</th>\n",
       "      <th>Bottle Volume (ml)</th>\n",
       "      <th>State Bottle Cost</th>\n",
       "      <th>State Bottle Retail</th>\n",
       "      <th>Bottles Sold</th>\n",
       "      <th>Sale (Dollars)</th>\n",
       "    </tr>\n",
       "  </thead>\n",
       "  <tbody>\n",
       "    <tr>\n",
       "      <th>0</th>\n",
       "      <td>INV-59108400026</td>\n",
       "      <td>06/06/2023</td>\n",
       "      <td>3723</td>\n",
       "      <td>J D SPIRITS LIQUOR</td>\n",
       "      <td>51040</td>\n",
       "      <td>STRAIGHT RYE WHISKIES</td>\n",
       "      <td>INFINIUM SPIRITS</td>\n",
       "      <td>27102</td>\n",
       "      <td>TEMPLETON RYE 4YR</td>\n",
       "      <td>750</td>\n",
       "      <td>18.09</td>\n",
       "      <td>27.14</td>\n",
       "      <td>2</td>\n",
       "      <td>54.28</td>\n",
       "    </tr>\n",
       "    <tr>\n",
       "      <th>1</th>\n",
       "      <td>S16879800057</td>\n",
       "      <td>01/16/2014</td>\n",
       "      <td>3926</td>\n",
       "      <td>LIQUOR DOWNTOWN / IOWA CITY</td>\n",
       "      <td>52240</td>\n",
       "      <td>VODKA 80 PROOF</td>\n",
       "      <td>HEAVEN HILL BRANDS</td>\n",
       "      <td>35416</td>\n",
       "      <td>BURNETT'S VODKA 80 PRF</td>\n",
       "      <td>750</td>\n",
       "      <td>4.84</td>\n",
       "      <td>7.26</td>\n",
       "      <td>12</td>\n",
       "      <td>87.12</td>\n",
       "    </tr>\n",
       "    <tr>\n",
       "      <th>2</th>\n",
       "      <td>INV-05301100019</td>\n",
       "      <td>06/05/2017</td>\n",
       "      <td>3829</td>\n",
       "      <td>GARY'S FOODS / MT VERNON</td>\n",
       "      <td>52314</td>\n",
       "      <td>CANADIAN WHISKIES</td>\n",
       "      <td>DIAGEO AMERICAS</td>\n",
       "      <td>11296</td>\n",
       "      <td>CROWN ROYAL</td>\n",
       "      <td>750</td>\n",
       "      <td>15.59</td>\n",
       "      <td>23.39</td>\n",
       "      <td>6</td>\n",
       "      <td>135.66</td>\n",
       "    </tr>\n",
       "    <tr>\n",
       "      <th>3</th>\n",
       "      <td>INV-40973500083</td>\n",
       "      <td>10/14/2021</td>\n",
       "      <td>5102</td>\n",
       "      <td>WILKIE LIQUORS</td>\n",
       "      <td>52314</td>\n",
       "      <td>AMERICAN SCHNAPPS</td>\n",
       "      <td>JIM BEAM BRANDS</td>\n",
       "      <td>82787</td>\n",
       "      <td>DEKUYPER BUTTERSHOTS</td>\n",
       "      <td>1000</td>\n",
       "      <td>7.87</td>\n",
       "      <td>11.81</td>\n",
       "      <td>12</td>\n",
       "      <td>141.72</td>\n",
       "    </tr>\n",
       "    <tr>\n",
       "      <th>4</th>\n",
       "      <td>INV-17022500013</td>\n",
       "      <td>01/18/2019</td>\n",
       "      <td>2560</td>\n",
       "      <td>HY-VEE FOOD STORE / MARION</td>\n",
       "      <td>52302</td>\n",
       "      <td>WHISKEY LIQUEUR</td>\n",
       "      <td>SAZERAC COMPANY  INC</td>\n",
       "      <td>64863</td>\n",
       "      <td>FIREBALL CINNAMON WHISKEY</td>\n",
       "      <td>200</td>\n",
       "      <td>2.50</td>\n",
       "      <td>3.75</td>\n",
       "      <td>12</td>\n",
       "      <td>45.00</td>\n",
       "    </tr>\n",
       "  </tbody>\n",
       "</table>\n",
       "</div>"
      ],
      "text/plain": [
       "  Invoice/Item Number        Date  Store Number                   Store Name  \\\n",
       "0     INV-59108400026  06/06/2023          3723           J D SPIRITS LIQUOR   \n",
       "1        S16879800057  01/16/2014          3926  LIQUOR DOWNTOWN / IOWA CITY   \n",
       "2     INV-05301100019  06/05/2017          3829     GARY'S FOODS / MT VERNON   \n",
       "3     INV-40973500083  10/14/2021          5102               WILKIE LIQUORS   \n",
       "4     INV-17022500013  01/18/2019          2560   HY-VEE FOOD STORE / MARION   \n",
       "\n",
       "  Zip Code          Category Name           Vendor Name  Item Number  \\\n",
       "0    51040  STRAIGHT RYE WHISKIES      INFINIUM SPIRITS        27102   \n",
       "1    52240         VODKA 80 PROOF    HEAVEN HILL BRANDS        35416   \n",
       "2    52314      CANADIAN WHISKIES       DIAGEO AMERICAS        11296   \n",
       "3    52314      AMERICAN SCHNAPPS       JIM BEAM BRANDS        82787   \n",
       "4    52302        WHISKEY LIQUEUR  SAZERAC COMPANY  INC        64863   \n",
       "\n",
       "            Item Description  Bottle Volume (ml)  State Bottle Cost  \\\n",
       "0          TEMPLETON RYE 4YR                 750              18.09   \n",
       "1     BURNETT'S VODKA 80 PRF                 750               4.84   \n",
       "2                CROWN ROYAL                 750              15.59   \n",
       "3       DEKUYPER BUTTERSHOTS                1000               7.87   \n",
       "4  FIREBALL CINNAMON WHISKEY                 200               2.50   \n",
       "\n",
       "   State Bottle Retail  Bottles Sold  Sale (Dollars)  \n",
       "0                27.14             2           54.28  \n",
       "1                 7.26            12           87.12  \n",
       "2                23.39             6          135.66  \n",
       "3                11.81            12          141.72  \n",
       "4                 3.75            12           45.00  "
      ]
     },
     "execution_count": 17,
     "metadata": {},
     "output_type": "execute_result"
    }
   ],
   "source": [
    "os.chdir(\"/Users/josephhudson/Desktop/DS_5030_HW_Submissions/data\")\n",
    "df=pd.read_csv(\"iowa.csv\")\n",
    "df.head()"
   ]
  },
  {
   "cell_type": "code",
   "execution_count": 18,
   "id": "8718b5e9",
   "metadata": {},
   "outputs": [
    {
     "data": {
      "text/plain": [
       "(159904, 14)"
      ]
     },
     "execution_count": 18,
     "metadata": {},
     "output_type": "execute_result"
    }
   ],
   "source": [
    "df.shape"
   ]
  },
  {
   "cell_type": "markdown",
   "id": "fa5cade1",
   "metadata": {},
   "source": [
    "5. Pick two or three variables and briefly analyze them\n",
    "    - Is it a categorical or numeric variable?\n",
    "    - How many missing values are there? (`df['var'].isna()` and `np.sum()`)\n",
    "    - If categorical, tabulate the values (`df['var'].value_counts()`) and if numeric, get a summary (`df['var'].describe()`)"
   ]
  },
  {
   "cell_type": "markdown",
   "id": "bbf9d4a7",
   "metadata": {},
   "source": [
    "## The Vendor Name Variable\n",
    "\n",
    "The Vendor Name variable is a categorical variable that tells us what company is the distibutior of the alcohol being purchased.\n"
   ]
  },
  {
   "cell_type": "code",
   "execution_count": 13,
   "id": "99a94b7e",
   "metadata": {},
   "outputs": [
    {
     "data": {
      "text/plain": [
       "0"
      ]
     },
     "execution_count": 13,
     "metadata": {},
     "output_type": "execute_result"
    }
   ],
   "source": [
    "int(np.sum(df[\"Vendor Name\"].isna()))"
   ]
  },
  {
   "cell_type": "markdown",
   "id": "f9a65420",
   "metadata": {},
   "source": [
    "There are 0 missing values in the Vendor Name column."
   ]
  },
  {
   "cell_type": "code",
   "execution_count": 14,
   "id": "da4d93a0",
   "metadata": {},
   "outputs": [
    {
     "data": {
      "text/plain": [
       "Vendor Name\n",
       "DIAGEO AMERICAS                       26068\n",
       "JIM BEAM BRANDS                       14163\n",
       "SAZERAC COMPANY  INC                  13481\n",
       "HEAVEN HILL BRANDS                     8987\n",
       "LUXCO INC                              7996\n",
       "                                      ...  \n",
       "SUTTER HOME WINERY INC                    1\n",
       "LLOYD CARUSO LLC                          1\n",
       "PENNSYLVANIA PURE DISTILLERIES LLC        1\n",
       "PACIFIC EDGE WINE & SPIRITS               1\n",
       "THREE RANGERS                             1\n",
       "Name: count, Length: 341, dtype: int64"
      ]
     },
     "execution_count": 14,
     "metadata": {},
     "output_type": "execute_result"
    }
   ],
   "source": [
    "df[\"Vendor Name\"].value_counts()"
   ]
  },
  {
   "cell_type": "code",
   "execution_count": 19,
   "id": "2f89f60a",
   "metadata": {},
   "outputs": [
    {
     "data": {
      "text/plain": [
       "0.4421090154092455"
      ]
     },
     "execution_count": 19,
     "metadata": {},
     "output_type": "execute_result"
    }
   ],
   "source": [
    "(26068+14163+13481+8987+7996)/159904"
   ]
  },
  {
   "cell_type": "markdown",
   "id": "017dfff8",
   "metadata": {},
   "source": [
    "It appears that of the 155904 sales in this dataset, around 44% of the sales involve the venders of Diageo Americas, Jim Beam Brands, Sazerac Comapny Inc, Heaven Hill Brands, and Luxico Inc."
   ]
  },
  {
   "cell_type": "markdown",
   "id": "185b165b",
   "metadata": {},
   "source": [
    "## The Bottle Volume Variable"
   ]
  },
  {
   "cell_type": "markdown",
   "id": "0aac34e5",
   "metadata": {},
   "source": [
    "The Bottle Volume Variable is a numerical variable that tells us how many milliliters each bottle has that is in the sale."
   ]
  },
  {
   "cell_type": "code",
   "execution_count": 21,
   "id": "b37c9780",
   "metadata": {},
   "outputs": [
    {
     "data": {
      "text/plain": [
       "0"
      ]
     },
     "execution_count": 21,
     "metadata": {},
     "output_type": "execute_result"
    }
   ],
   "source": [
    "int(np.sum(df[\"Bottle Volume (ml)\"].isna()))"
   ]
  },
  {
   "cell_type": "markdown",
   "id": "7518d1f0",
   "metadata": {},
   "source": [
    "There are 0 missing values in the Bottle Volume column."
   ]
  },
  {
   "cell_type": "code",
   "execution_count": 22,
   "id": "2564a834",
   "metadata": {},
   "outputs": [
    {
     "data": {
      "text/plain": [
       "count    159904.000000\n",
       "mean        869.592737\n",
       "std         513.812818\n",
       "min          20.000000\n",
       "25%         750.000000\n",
       "50%         750.000000\n",
       "75%        1000.000000\n",
       "max        6000.000000\n",
       "Name: Bottle Volume (ml), dtype: float64"
      ]
     },
     "execution_count": 22,
     "metadata": {},
     "output_type": "execute_result"
    }
   ],
   "source": [
    "df[\"Bottle Volume (ml)\"].describe()"
   ]
  },
  {
   "cell_type": "markdown",
   "id": "0e49af88",
   "metadata": {},
   "source": [
    "Based on the quantiles displayed, as well as mean of 869.593, we can determine that a large amount of the sales included bottles of 750 ml volumes. "
   ]
  },
  {
   "cell_type": "markdown",
   "id": "dbf2318a",
   "metadata": {},
   "source": [
    "6. What are some questions and prediction tools you could create using these data? Who would the stakeholder be for that prediction tool? What practical or ethical questions would it create? What other data would you want, that are not available in your data?"
   ]
  },
  {
   "cell_type": "markdown",
   "id": "2ba7201e",
   "metadata": {},
   "source": [
    "One question would be what connection is there between the profit margin of a particular bottle of alcohol and how many of these bottles are sold. With this data, we can see both State bottle cost and the actual retail sale price, allowing us to calculate how much profit is made off each sold bottle of a particular item. In theory, bottles with higher differences in state cost and retail price should be sold less, given how much their price is marked up. We could create a scatter plot to view the relationship between the 2 numeric variables, and (if the assumptions are met) we could use a simple linear regression model to see how much of the variation in the total bottles sold of a item is explained by the item's difference in State cost and retail price. This information could be useful for the State officials who run the ABC stores in their state when it comes to pricing items in hopes of increasing profit by potentially having more bottles sold at lower prices. This would create a larger economic question of how much the demand for a particular item would actually change based on the retail price change of the item, and if it would actually help increase profits for the state. To better answer this question, I would also like data on how similar items are priced in other ABC states and to compare how Iowa prices the same products as another ABC state and the difference in total bottles sold. This comparison would obviously need to in some way take into account the different populations of states. "
   ]
  },
  {
   "cell_type": "markdown",
   "id": "221e7743",
   "metadata": {},
   "source": [
    "Another question could be which places in Iowa have the most frequent liquor sales/highest sum of sales, and based off this data you could make a table showing the zip codes where the highest sum of sales/most sales happen. A stakeholder who is trying to plan where they want to build their next liquor store might use that information to then choose a location. The ethical concern with this approach comes back to the somewhat predatory nature that is present with a liquor store using the information onf where most lqiuor is bought to then put more stores there and thus allow people who buy liquor frequently even more options of consuming it. Some data that is not included in this dataset that might be useful would be the towns the liquor sales are taking place in. I think it would then be interesting to have the estimated poulations of these towns and zip code to then see sales per capita for each area to better identify which places have people on average that are more likely to buy liquor based on past purchases. "
   ]
  },
  {
   "cell_type": "markdown",
   "id": "a4a7ddc7",
   "metadata": {},
   "source": [
    "7. Commit your work to the repo (`git commit -am 'Finish assignment'` at the command line, or use the Git panel in VS Code). Push your work back to Github and submit the link on Canvas in the assignment tab."
   ]
  }
 ],
 "metadata": {
  "kernelspec": {
   "display_name": ".prob",
   "language": "python",
   "name": "python3"
  },
  "language_info": {
   "codemirror_mode": {
    "name": "ipython",
    "version": 3
   },
   "file_extension": ".py",
   "mimetype": "text/x-python",
   "name": "python",
   "nbconvert_exporter": "python",
   "pygments_lexer": "ipython3",
   "version": "3.13.5"
  }
 },
 "nbformat": 4,
 "nbformat_minor": 5
}
