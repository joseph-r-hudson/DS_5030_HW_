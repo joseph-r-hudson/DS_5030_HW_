{
 "cells": [
  {
   "cell_type": "markdown",
   "id": "7c6c1330",
   "metadata": {},
   "source": [
    "# Assignment 3\n",
    "### Due 9/21. Do four of five."
   ]
  },
  {
   "cell_type": "code",
   "execution_count": 69,
   "id": "0ea581fc",
   "metadata": {},
   "outputs": [],
   "source": [
    "import pandas as pd\n",
    "import numpy as np\n",
    "import os\n",
    "import seaborn as sns\n",
    "import matplotlib.pyplot as plt"
   ]
  },
  {
   "cell_type": "markdown",
   "id": "c7761202",
   "metadata": {},
   "source": [
    "1. \n",
    "- Open the NHANES (or Ames prices or college completion datasets, if you prefer)\n",
    "- Find two categorical variables of interest (there are 198, and short descriptions are given in the `nhanes_meta_17_18.csv` file). Investigate their missing values (you don't have to focus on missing values for this analysis like we did with police use of force, but always be aware of how dirty the data are)\n",
    "- Compute a contingency table for your categorical $X$ and $Y$\n",
    "- Discuss any interesting patterns (or lack of one) that you observe"
   ]
  },
  {
   "cell_type": "code",
   "execution_count": 70,
   "id": "45628fbe",
   "metadata": {},
   "outputs": [
    {
     "name": "stderr",
     "output_type": "stream",
     "text": [
      "/var/folders/_s/15_6ws_j3b7dnd8t_254kl5h0000gn/T/ipykernel_45507/2727840662.py:2: DtypeWarning: Columns (142) have mixed types. Specify dtype option on import or set low_memory=False.\n",
      "  df=pd.read_csv(\"nhanes_data_17_18.csv\")\n"
     ]
    },
    {
     "data": {
      "text/html": [
       "<div>\n",
       "<style scoped>\n",
       "    .dataframe tbody tr th:only-of-type {\n",
       "        vertical-align: middle;\n",
       "    }\n",
       "\n",
       "    .dataframe tbody tr th {\n",
       "        vertical-align: top;\n",
       "    }\n",
       "\n",
       "    .dataframe thead th {\n",
       "        text-align: right;\n",
       "    }\n",
       "</style>\n",
       "<table border=\"1\" class=\"dataframe\">\n",
       "  <thead>\n",
       "    <tr style=\"text-align: right;\">\n",
       "      <th></th>\n",
       "      <th>SEQN</th>\n",
       "      <th>GeneralHealthCondition</th>\n",
       "      <th>EverBreastfedOrFedBreastmilk</th>\n",
       "      <th>AgeStoppedBreastfeedingdays</th>\n",
       "      <th>AgeFirstFedFormuladays</th>\n",
       "      <th>AgeStoppedReceivingFormuladays</th>\n",
       "      <th>AgeStartedOtherFoodbeverage</th>\n",
       "      <th>AgeFirstFedMilkdays</th>\n",
       "      <th>TypeOfMilkFirstFedWholeMilk</th>\n",
       "      <th>TypeOfMilkFirstFed2Milk</th>\n",
       "      <th>...</th>\n",
       "      <th>DaysSmokedCigsDuringPast30Days</th>\n",
       "      <th>AvgCigarettesdayDuringPast30Days</th>\n",
       "      <th>TriedToQuitSmoking</th>\n",
       "      <th>TimesStoppedSmokingCigarettes</th>\n",
       "      <th>HowLongWereYouAbleToStopSmoking</th>\n",
       "      <th>UnitOfMeasureDayweekmonthyear_2_SMQ</th>\n",
       "      <th>CurrentSelfreportedHeightInches</th>\n",
       "      <th>CurrentSelfreportedWeightPounds</th>\n",
       "      <th>TriedToLoseWeightInPastYear</th>\n",
       "      <th>TimesLost10LbsOrMoreToLoseWeight</th>\n",
       "    </tr>\n",
       "  </thead>\n",
       "  <tbody>\n",
       "    <tr>\n",
       "      <th>0</th>\n",
       "      <td>93703.0</td>\n",
       "      <td>NaN</td>\n",
       "      <td>1.0</td>\n",
       "      <td>273.0</td>\n",
       "      <td>1.0</td>\n",
       "      <td>365.0</td>\n",
       "      <td>152.0</td>\n",
       "      <td>365.0</td>\n",
       "      <td>Whole or regular milk</td>\n",
       "      <td>NaN</td>\n",
       "      <td>...</td>\n",
       "      <td>NaN</td>\n",
       "      <td>NaN</td>\n",
       "      <td>NaN</td>\n",
       "      <td>NaN</td>\n",
       "      <td>NaN</td>\n",
       "      <td>NaN</td>\n",
       "      <td>NaN</td>\n",
       "      <td>NaN</td>\n",
       "      <td>NaN</td>\n",
       "      <td>NaN</td>\n",
       "    </tr>\n",
       "    <tr>\n",
       "      <th>1</th>\n",
       "      <td>93704.0</td>\n",
       "      <td>NaN</td>\n",
       "      <td>1.0</td>\n",
       "      <td>60.0</td>\n",
       "      <td>3.0</td>\n",
       "      <td>365.0</td>\n",
       "      <td>126.0</td>\n",
       "      <td>365.0</td>\n",
       "      <td>Whole or regular milk</td>\n",
       "      <td>NaN</td>\n",
       "      <td>...</td>\n",
       "      <td>NaN</td>\n",
       "      <td>NaN</td>\n",
       "      <td>NaN</td>\n",
       "      <td>NaN</td>\n",
       "      <td>NaN</td>\n",
       "      <td>NaN</td>\n",
       "      <td>NaN</td>\n",
       "      <td>NaN</td>\n",
       "      <td>NaN</td>\n",
       "      <td>NaN</td>\n",
       "    </tr>\n",
       "    <tr>\n",
       "      <th>2</th>\n",
       "      <td>93705.0</td>\n",
       "      <td>Good</td>\n",
       "      <td>NaN</td>\n",
       "      <td>NaN</td>\n",
       "      <td>NaN</td>\n",
       "      <td>NaN</td>\n",
       "      <td>NaN</td>\n",
       "      <td>NaN</td>\n",
       "      <td>NaN</td>\n",
       "      <td>NaN</td>\n",
       "      <td>...</td>\n",
       "      <td>NaN</td>\n",
       "      <td>NaN</td>\n",
       "      <td>NaN</td>\n",
       "      <td>NaN</td>\n",
       "      <td>NaN</td>\n",
       "      <td>NaN</td>\n",
       "      <td>63.0</td>\n",
       "      <td>165.0</td>\n",
       "      <td>0.0</td>\n",
       "      <td>11 times or more</td>\n",
       "    </tr>\n",
       "    <tr>\n",
       "      <th>3</th>\n",
       "      <td>93706.0</td>\n",
       "      <td>Very good</td>\n",
       "      <td>NaN</td>\n",
       "      <td>NaN</td>\n",
       "      <td>NaN</td>\n",
       "      <td>NaN</td>\n",
       "      <td>NaN</td>\n",
       "      <td>NaN</td>\n",
       "      <td>NaN</td>\n",
       "      <td>NaN</td>\n",
       "      <td>...</td>\n",
       "      <td>NaN</td>\n",
       "      <td>NaN</td>\n",
       "      <td>NaN</td>\n",
       "      <td>NaN</td>\n",
       "      <td>NaN</td>\n",
       "      <td>NaN</td>\n",
       "      <td>68.0</td>\n",
       "      <td>145.0</td>\n",
       "      <td>0.0</td>\n",
       "      <td>Never</td>\n",
       "    </tr>\n",
       "    <tr>\n",
       "      <th>4</th>\n",
       "      <td>93707.0</td>\n",
       "      <td>Good</td>\n",
       "      <td>NaN</td>\n",
       "      <td>NaN</td>\n",
       "      <td>NaN</td>\n",
       "      <td>NaN</td>\n",
       "      <td>NaN</td>\n",
       "      <td>NaN</td>\n",
       "      <td>NaN</td>\n",
       "      <td>NaN</td>\n",
       "      <td>...</td>\n",
       "      <td>NaN</td>\n",
       "      <td>NaN</td>\n",
       "      <td>NaN</td>\n",
       "      <td>NaN</td>\n",
       "      <td>NaN</td>\n",
       "      <td>NaN</td>\n",
       "      <td>NaN</td>\n",
       "      <td>NaN</td>\n",
       "      <td>NaN</td>\n",
       "      <td>NaN</td>\n",
       "    </tr>\n",
       "    <tr>\n",
       "      <th>...</th>\n",
       "      <td>...</td>\n",
       "      <td>...</td>\n",
       "      <td>...</td>\n",
       "      <td>...</td>\n",
       "      <td>...</td>\n",
       "      <td>...</td>\n",
       "      <td>...</td>\n",
       "      <td>...</td>\n",
       "      <td>...</td>\n",
       "      <td>...</td>\n",
       "      <td>...</td>\n",
       "      <td>...</td>\n",
       "      <td>...</td>\n",
       "      <td>...</td>\n",
       "      <td>...</td>\n",
       "      <td>...</td>\n",
       "      <td>...</td>\n",
       "      <td>...</td>\n",
       "      <td>...</td>\n",
       "      <td>...</td>\n",
       "      <td>...</td>\n",
       "    </tr>\n",
       "    <tr>\n",
       "      <th>8361</th>\n",
       "      <td>102952.0</td>\n",
       "      <td>Very good</td>\n",
       "      <td>NaN</td>\n",
       "      <td>NaN</td>\n",
       "      <td>NaN</td>\n",
       "      <td>NaN</td>\n",
       "      <td>NaN</td>\n",
       "      <td>NaN</td>\n",
       "      <td>NaN</td>\n",
       "      <td>NaN</td>\n",
       "      <td>...</td>\n",
       "      <td>NaN</td>\n",
       "      <td>NaN</td>\n",
       "      <td>NaN</td>\n",
       "      <td>NaN</td>\n",
       "      <td>NaN</td>\n",
       "      <td>NaN</td>\n",
       "      <td>NaN</td>\n",
       "      <td>117.0</td>\n",
       "      <td>0.0</td>\n",
       "      <td>Never</td>\n",
       "    </tr>\n",
       "    <tr>\n",
       "      <th>8362</th>\n",
       "      <td>102953.0</td>\n",
       "      <td>Fair or</td>\n",
       "      <td>NaN</td>\n",
       "      <td>NaN</td>\n",
       "      <td>NaN</td>\n",
       "      <td>NaN</td>\n",
       "      <td>NaN</td>\n",
       "      <td>NaN</td>\n",
       "      <td>NaN</td>\n",
       "      <td>NaN</td>\n",
       "      <td>...</td>\n",
       "      <td>NaN</td>\n",
       "      <td>NaN</td>\n",
       "      <td>NaN</td>\n",
       "      <td>NaN</td>\n",
       "      <td>NaN</td>\n",
       "      <td>NaN</td>\n",
       "      <td>65.0</td>\n",
       "      <td>218.0</td>\n",
       "      <td>0.0</td>\n",
       "      <td>Never</td>\n",
       "    </tr>\n",
       "    <tr>\n",
       "      <th>8363</th>\n",
       "      <td>102954.0</td>\n",
       "      <td>Good</td>\n",
       "      <td>NaN</td>\n",
       "      <td>NaN</td>\n",
       "      <td>NaN</td>\n",
       "      <td>NaN</td>\n",
       "      <td>NaN</td>\n",
       "      <td>NaN</td>\n",
       "      <td>NaN</td>\n",
       "      <td>NaN</td>\n",
       "      <td>...</td>\n",
       "      <td>NaN</td>\n",
       "      <td>NaN</td>\n",
       "      <td>NaN</td>\n",
       "      <td>NaN</td>\n",
       "      <td>NaN</td>\n",
       "      <td>NaN</td>\n",
       "      <td>66.0</td>\n",
       "      <td>150.0</td>\n",
       "      <td>0.0</td>\n",
       "      <td>Never</td>\n",
       "    </tr>\n",
       "    <tr>\n",
       "      <th>8364</th>\n",
       "      <td>102955.0</td>\n",
       "      <td>Very good</td>\n",
       "      <td>NaN</td>\n",
       "      <td>NaN</td>\n",
       "      <td>NaN</td>\n",
       "      <td>NaN</td>\n",
       "      <td>NaN</td>\n",
       "      <td>NaN</td>\n",
       "      <td>NaN</td>\n",
       "      <td>NaN</td>\n",
       "      <td>...</td>\n",
       "      <td>NaN</td>\n",
       "      <td>NaN</td>\n",
       "      <td>NaN</td>\n",
       "      <td>NaN</td>\n",
       "      <td>NaN</td>\n",
       "      <td>NaN</td>\n",
       "      <td>NaN</td>\n",
       "      <td>NaN</td>\n",
       "      <td>NaN</td>\n",
       "      <td>NaN</td>\n",
       "    </tr>\n",
       "    <tr>\n",
       "      <th>8365</th>\n",
       "      <td>102956.0</td>\n",
       "      <td>Good</td>\n",
       "      <td>NaN</td>\n",
       "      <td>NaN</td>\n",
       "      <td>NaN</td>\n",
       "      <td>NaN</td>\n",
       "      <td>NaN</td>\n",
       "      <td>NaN</td>\n",
       "      <td>NaN</td>\n",
       "      <td>NaN</td>\n",
       "      <td>...</td>\n",
       "      <td>30.0</td>\n",
       "      <td>20.0</td>\n",
       "      <td>1.0</td>\n",
       "      <td>1.0</td>\n",
       "      <td>2.0</td>\n",
       "      <td>Days</td>\n",
       "      <td>69.0</td>\n",
       "      <td>250.0</td>\n",
       "      <td>0.0</td>\n",
       "      <td>1 to 2</td>\n",
       "    </tr>\n",
       "  </tbody>\n",
       "</table>\n",
       "<p>8366 rows × 198 columns</p>\n",
       "</div>"
      ],
      "text/plain": [
       "          SEQN GeneralHealthCondition  EverBreastfedOrFedBreastmilk  \\\n",
       "0      93703.0                    NaN                           1.0   \n",
       "1      93704.0                    NaN                           1.0   \n",
       "2      93705.0                   Good                           NaN   \n",
       "3      93706.0              Very good                           NaN   \n",
       "4      93707.0                   Good                           NaN   \n",
       "...        ...                    ...                           ...   \n",
       "8361  102952.0              Very good                           NaN   \n",
       "8362  102953.0                Fair or                           NaN   \n",
       "8363  102954.0                   Good                           NaN   \n",
       "8364  102955.0              Very good                           NaN   \n",
       "8365  102956.0                   Good                           NaN   \n",
       "\n",
       "      AgeStoppedBreastfeedingdays  AgeFirstFedFormuladays  \\\n",
       "0                           273.0                     1.0   \n",
       "1                            60.0                     3.0   \n",
       "2                             NaN                     NaN   \n",
       "3                             NaN                     NaN   \n",
       "4                             NaN                     NaN   \n",
       "...                           ...                     ...   \n",
       "8361                          NaN                     NaN   \n",
       "8362                          NaN                     NaN   \n",
       "8363                          NaN                     NaN   \n",
       "8364                          NaN                     NaN   \n",
       "8365                          NaN                     NaN   \n",
       "\n",
       "      AgeStoppedReceivingFormuladays  AgeStartedOtherFoodbeverage  \\\n",
       "0                              365.0                        152.0   \n",
       "1                              365.0                        126.0   \n",
       "2                                NaN                          NaN   \n",
       "3                                NaN                          NaN   \n",
       "4                                NaN                          NaN   \n",
       "...                              ...                          ...   \n",
       "8361                             NaN                          NaN   \n",
       "8362                             NaN                          NaN   \n",
       "8363                             NaN                          NaN   \n",
       "8364                             NaN                          NaN   \n",
       "8365                             NaN                          NaN   \n",
       "\n",
       "      AgeFirstFedMilkdays TypeOfMilkFirstFedWholeMilk  \\\n",
       "0                   365.0       Whole or regular milk   \n",
       "1                   365.0       Whole or regular milk   \n",
       "2                     NaN                         NaN   \n",
       "3                     NaN                         NaN   \n",
       "4                     NaN                         NaN   \n",
       "...                   ...                         ...   \n",
       "8361                  NaN                         NaN   \n",
       "8362                  NaN                         NaN   \n",
       "8363                  NaN                         NaN   \n",
       "8364                  NaN                         NaN   \n",
       "8365                  NaN                         NaN   \n",
       "\n",
       "      TypeOfMilkFirstFed2Milk  ...  DaysSmokedCigsDuringPast30Days  \\\n",
       "0                         NaN  ...                             NaN   \n",
       "1                         NaN  ...                             NaN   \n",
       "2                         NaN  ...                             NaN   \n",
       "3                         NaN  ...                             NaN   \n",
       "4                         NaN  ...                             NaN   \n",
       "...                       ...  ...                             ...   \n",
       "8361                      NaN  ...                             NaN   \n",
       "8362                      NaN  ...                             NaN   \n",
       "8363                      NaN  ...                             NaN   \n",
       "8364                      NaN  ...                             NaN   \n",
       "8365                      NaN  ...                            30.0   \n",
       "\n",
       "      AvgCigarettesdayDuringPast30Days  TriedToQuitSmoking  \\\n",
       "0                                  NaN                 NaN   \n",
       "1                                  NaN                 NaN   \n",
       "2                                  NaN                 NaN   \n",
       "3                                  NaN                 NaN   \n",
       "4                                  NaN                 NaN   \n",
       "...                                ...                 ...   \n",
       "8361                               NaN                 NaN   \n",
       "8362                               NaN                 NaN   \n",
       "8363                               NaN                 NaN   \n",
       "8364                               NaN                 NaN   \n",
       "8365                              20.0                 1.0   \n",
       "\n",
       "      TimesStoppedSmokingCigarettes HowLongWereYouAbleToStopSmoking  \\\n",
       "0                               NaN                             NaN   \n",
       "1                               NaN                             NaN   \n",
       "2                               NaN                             NaN   \n",
       "3                               NaN                             NaN   \n",
       "4                               NaN                             NaN   \n",
       "...                             ...                             ...   \n",
       "8361                            NaN                             NaN   \n",
       "8362                            NaN                             NaN   \n",
       "8363                            NaN                             NaN   \n",
       "8364                            NaN                             NaN   \n",
       "8365                            1.0                             2.0   \n",
       "\n",
       "     UnitOfMeasureDayweekmonthyear_2_SMQ CurrentSelfreportedHeightInches  \\\n",
       "0                                    NaN                             NaN   \n",
       "1                                    NaN                             NaN   \n",
       "2                                    NaN                            63.0   \n",
       "3                                    NaN                            68.0   \n",
       "4                                    NaN                             NaN   \n",
       "...                                  ...                             ...   \n",
       "8361                                 NaN                             NaN   \n",
       "8362                                 NaN                            65.0   \n",
       "8363                                 NaN                            66.0   \n",
       "8364                                 NaN                             NaN   \n",
       "8365                                Days                            69.0   \n",
       "\n",
       "      CurrentSelfreportedWeightPounds  TriedToLoseWeightInPastYear  \\\n",
       "0                                 NaN                          NaN   \n",
       "1                                 NaN                          NaN   \n",
       "2                               165.0                          0.0   \n",
       "3                               145.0                          0.0   \n",
       "4                                 NaN                          NaN   \n",
       "...                               ...                          ...   \n",
       "8361                            117.0                          0.0   \n",
       "8362                            218.0                          0.0   \n",
       "8363                            150.0                          0.0   \n",
       "8364                              NaN                          NaN   \n",
       "8365                            250.0                          0.0   \n",
       "\n",
       "      TimesLost10LbsOrMoreToLoseWeight  \n",
       "0                                  NaN  \n",
       "1                                  NaN  \n",
       "2                     11 times or more  \n",
       "3                                Never  \n",
       "4                                  NaN  \n",
       "...                                ...  \n",
       "8361                             Never  \n",
       "8362                             Never  \n",
       "8363                             Never  \n",
       "8364                               NaN  \n",
       "8365                            1 to 2  \n",
       "\n",
       "[8366 rows x 198 columns]"
      ]
     },
     "execution_count": 70,
     "metadata": {},
     "output_type": "execute_result"
    }
   ],
   "source": [
    "os.chdir(\"/Users/josephhudson/Desktop/MSDS Fall 2025/DS_5030_HW_/data\")\n",
    "df=pd.read_csv(\"nhanes_data_17_18.csv\")\n",
    "df"
   ]
  },
  {
   "cell_type": "markdown",
   "id": "d863615c",
   "metadata": {},
   "source": [
    "I am going to analyze the \"How Often Do You Feel Depressed\" and \"Take Medication For Depression\" variables."
   ]
  },
  {
   "cell_type": "code",
   "execution_count": 71,
   "id": "db7f23f7",
   "metadata": {},
   "outputs": [
    {
     "data": {
      "text/plain": [
       "np.int64(2926)"
      ]
     },
     "execution_count": 71,
     "metadata": {},
     "output_type": "execute_result"
    }
   ],
   "source": [
    "#checking the amount of missing values\n",
    "df['HowOftenDoYouFeelDepressed'].isna().sum()"
   ]
  },
  {
   "cell_type": "markdown",
   "id": "23509ebe",
   "metadata": {},
   "source": [
    "There are 2926 missing values in the \"HowOftenDoYouFeelDepressed\" column."
   ]
  },
  {
   "cell_type": "code",
   "execution_count": 72,
   "id": "9a14eb89",
   "metadata": {},
   "outputs": [
    {
     "data": {
      "text/plain": [
       "array([nan,  1.,  0.,  4.,  2.,  3.])"
      ]
     },
     "execution_count": 72,
     "metadata": {},
     "output_type": "execute_result"
    }
   ],
   "source": [
    "df['HowOftenDoYouFeelDepressed'].unique()"
   ]
  },
  {
   "cell_type": "code",
   "execution_count": 73,
   "id": "6fc2aac0",
   "metadata": {},
   "outputs": [
    {
     "data": {
      "text/plain": [
       "np.int64(2915)"
      ]
     },
     "execution_count": 73,
     "metadata": {},
     "output_type": "execute_result"
    }
   ],
   "source": [
    "#checking the amount of missing values\n",
    "df['TakeMedicationForDepression'].isna().sum()"
   ]
  },
  {
   "cell_type": "markdown",
   "id": "7d224096",
   "metadata": {},
   "source": [
    "There are 2915 missing values in the \"TakeMedicationForDepression\" column."
   ]
  },
  {
   "cell_type": "code",
   "execution_count": 74,
   "id": "3c75c048",
   "metadata": {},
   "outputs": [
    {
     "data": {
      "text/plain": [
       "array([nan,  0.,  1.])"
      ]
     },
     "execution_count": 74,
     "metadata": {},
     "output_type": "execute_result"
    }
   ],
   "source": [
    "df['TakeMedicationForDepression'].unique()"
   ]
  },
  {
   "cell_type": "code",
   "execution_count": 75,
   "id": "9a7dcaee",
   "metadata": {},
   "outputs": [
    {
     "data": {
      "text/html": [
       "<div>\n",
       "<style scoped>\n",
       "    .dataframe tbody tr th:only-of-type {\n",
       "        vertical-align: middle;\n",
       "    }\n",
       "\n",
       "    .dataframe tbody tr th {\n",
       "        vertical-align: top;\n",
       "    }\n",
       "\n",
       "    .dataframe thead th {\n",
       "        text-align: right;\n",
       "    }\n",
       "</style>\n",
       "<table border=\"1\" class=\"dataframe\">\n",
       "  <thead>\n",
       "    <tr style=\"text-align: right;\">\n",
       "      <th>HowOftenDoYouFeelDepressed</th>\n",
       "      <th>0.0</th>\n",
       "      <th>1.0</th>\n",
       "      <th>2.0</th>\n",
       "      <th>3.0</th>\n",
       "      <th>4.0</th>\n",
       "    </tr>\n",
       "    <tr>\n",
       "      <th>TakeMedicationForDepression</th>\n",
       "      <th></th>\n",
       "      <th></th>\n",
       "      <th></th>\n",
       "      <th></th>\n",
       "      <th></th>\n",
       "    </tr>\n",
       "  </thead>\n",
       "  <tbody>\n",
       "    <tr>\n",
       "      <th>0.0</th>\n",
       "      <td>2541</td>\n",
       "      <td>1575</td>\n",
       "      <td>355</td>\n",
       "      <td>259</td>\n",
       "      <td>150</td>\n",
       "    </tr>\n",
       "    <tr>\n",
       "      <th>1.0</th>\n",
       "      <td>33</td>\n",
       "      <td>151</td>\n",
       "      <td>90</td>\n",
       "      <td>129</td>\n",
       "      <td>154</td>\n",
       "    </tr>\n",
       "  </tbody>\n",
       "</table>\n",
       "</div>"
      ],
      "text/plain": [
       "HowOftenDoYouFeelDepressed    0.0   1.0  2.0  3.0  4.0\n",
       "TakeMedicationForDepression                           \n",
       "0.0                          2541  1575  355  259  150\n",
       "1.0                            33   151   90  129  154"
      ]
     },
     "execution_count": 75,
     "metadata": {},
     "output_type": "execute_result"
    }
   ],
   "source": [
    "pd.crosstab(df['TakeMedicationForDepression'], df['HowOftenDoYouFeelDepressed'])"
   ]
  },
  {
   "cell_type": "code",
   "execution_count": 76,
   "id": "714b447b",
   "metadata": {},
   "outputs": [
    {
     "data": {
      "text/html": [
       "<div>\n",
       "<style scoped>\n",
       "    .dataframe tbody tr th:only-of-type {\n",
       "        vertical-align: middle;\n",
       "    }\n",
       "\n",
       "    .dataframe tbody tr th {\n",
       "        vertical-align: top;\n",
       "    }\n",
       "\n",
       "    .dataframe thead th {\n",
       "        text-align: right;\n",
       "    }\n",
       "</style>\n",
       "<table border=\"1\" class=\"dataframe\">\n",
       "  <thead>\n",
       "    <tr style=\"text-align: right;\">\n",
       "      <th>HowOftenDoYouFeelDepressed</th>\n",
       "      <th>0.0</th>\n",
       "      <th>1.0</th>\n",
       "      <th>2.0</th>\n",
       "      <th>3.0</th>\n",
       "      <th>4.0</th>\n",
       "    </tr>\n",
       "    <tr>\n",
       "      <th>TakeMedicationForDepression</th>\n",
       "      <th></th>\n",
       "      <th></th>\n",
       "      <th></th>\n",
       "      <th></th>\n",
       "      <th></th>\n",
       "    </tr>\n",
       "  </thead>\n",
       "  <tbody>\n",
       "    <tr>\n",
       "      <th>0.0</th>\n",
       "      <td>0.987179</td>\n",
       "      <td>0.912514</td>\n",
       "      <td>0.797753</td>\n",
       "      <td>0.667526</td>\n",
       "      <td>0.493421</td>\n",
       "    </tr>\n",
       "    <tr>\n",
       "      <th>1.0</th>\n",
       "      <td>0.012821</td>\n",
       "      <td>0.087486</td>\n",
       "      <td>0.202247</td>\n",
       "      <td>0.332474</td>\n",
       "      <td>0.506579</td>\n",
       "    </tr>\n",
       "  </tbody>\n",
       "</table>\n",
       "</div>"
      ],
      "text/plain": [
       "HowOftenDoYouFeelDepressed        0.0       1.0       2.0       3.0       4.0\n",
       "TakeMedicationForDepression                                                  \n",
       "0.0                          0.987179  0.912514  0.797753  0.667526  0.493421\n",
       "1.0                          0.012821  0.087486  0.202247  0.332474  0.506579"
      ]
     },
     "execution_count": 76,
     "metadata": {},
     "output_type": "execute_result"
    }
   ],
   "source": [
    "pd.crosstab(df['TakeMedicationForDepression'], df['HowOftenDoYouFeelDepressed'],normalize='columns')"
   ]
  },
  {
   "cell_type": "markdown",
   "id": "5d3eeaf5",
   "metadata": {},
   "source": [
    "The \"How Often Do You Feel Depressed\" variable represents by its numbers if a person feels depressed daily, weekly, monthly, a few times a year, or never. I am going to assume that 0 means someone reported they were depressed daily and 4 is they are never depressed (not clear if that how it is based on meta file). If my assumption is correct, it appears generally that people who reported to be depressed more often were more likely to take medication for depression. This would be a plausible relationship between the variables."
   ]
  },
  {
   "cell_type": "markdown",
   "id": "6cef48e5",
   "metadata": {},
   "source": [
    "2. \n",
    "- Open the NHANES dataset\n",
    "- Find a categorical and numeric variable of interest (there are 198, and short descriptions are given in the `nhanes_meta_17_18.csv` file). Investigate their missing values (you don't have to focus on missing values for this analysis, but always be aware of them)\n",
    "- Make descriptive tables and grouped kernel density plots to represent the variation in your numeric $Y$ conditional on your categorical $X$\n",
    "- Discuss any interesting patterns (or lack of one) that you observe"
   ]
  },
  {
   "cell_type": "markdown",
   "id": "0d3aea2c",
   "metadata": {},
   "source": [
    "The variables I am going to analyze are \"OfMealsFromFastFoodOrPizzaPlace\" and \"HowHealthyIsTheDiet\"."
   ]
  },
  {
   "cell_type": "code",
   "execution_count": 77,
   "id": "3e24923c",
   "metadata": {},
   "outputs": [
    {
     "data": {
      "text/plain": [
       "np.int64(1922)"
      ]
     },
     "execution_count": 77,
     "metadata": {},
     "output_type": "execute_result"
    }
   ],
   "source": [
    "df['OfMealsFromFastFoodOrPizzaPlace'].isna().sum()"
   ]
  },
  {
   "cell_type": "code",
   "execution_count": 78,
   "id": "a22509cf",
   "metadata": {},
   "outputs": [
    {
     "data": {
      "text/plain": [
       "np.int64(2540)"
      ]
     },
     "execution_count": 78,
     "metadata": {},
     "output_type": "execute_result"
    }
   ],
   "source": [
    "df['HowHealthyIsTheDiet'].isna().sum()"
   ]
  },
  {
   "cell_type": "code",
   "execution_count": 79,
   "id": "b2e6ce54",
   "metadata": {},
   "outputs": [
    {
     "data": {
      "text/plain": [
       "HowHealthyIsTheDiet\n",
       "Excellent     1.270833\n",
       "Fair         14.878240\n",
       "Good          7.555617\n",
       "Poor         20.289941\n",
       "Very good     1.338028\n",
       "Name: OfMealsFromFastFoodOrPizzaPlace, dtype: float64"
      ]
     },
     "execution_count": 79,
     "metadata": {},
     "output_type": "execute_result"
    }
   ],
   "source": [
    "df.groupby('HowHealthyIsTheDiet')['OfMealsFromFastFoodOrPizzaPlace'].mean()"
   ]
  },
  {
   "cell_type": "markdown",
   "id": "d3b21bdf",
   "metadata": {},
   "source": [
    "It appears that people who reported eating more fast food meals, also reported having less healthy diets. "
   ]
  },
  {
   "cell_type": "code",
   "execution_count": 80,
   "id": "4704a545",
   "metadata": {},
   "outputs": [
    {
     "data": {
      "image/png": "[encoded data removed]",
      "text/plain": [
       "<Figure size 640x480 with 1 Axes>"
      ]
     },
     "metadata": {},
     "output_type": "display_data"
    }
   ],
   "source": [
    "# Code from 02_using_information.ipynb\n",
    "conditioner = 'HowHealthyIsTheDiet'\n",
    "sns.kdeplot( data=df, x='OfMealsFromFastFoodOrPizzaPlace', hue=conditioner, common_norm=False ).set(title='KDE')\n",
    "\n",
    "plt.show()"
   ]
  },
  {
   "cell_type": "markdown",
   "id": "587a29dd",
   "metadata": {},
   "source": [
    "It appears the KDE Plot is messed up because the max Fast Food Meal value is very large"
   ]
  },
  {
   "cell_type": "code",
   "execution_count": 81,
   "id": "ca4b5a67",
   "metadata": {},
   "outputs": [
    {
     "data": {
      "text/plain": [
       "9999.0"
      ]
     },
     "execution_count": 81,
     "metadata": {},
     "output_type": "execute_result"
    }
   ],
   "source": [
    "df['OfMealsFromFastFoodOrPizzaPlace'].max()"
   ]
  },
  {
   "cell_type": "code",
   "execution_count": 82,
   "id": "bf965ad3",
   "metadata": {},
   "outputs": [
    {
     "data": {
      "text/plain": [
       "156     9999.0\n",
       "5104    9999.0\n",
       "6915    9999.0\n",
       "2002    5555.0\n",
       "6573    5555.0\n",
       "1414      21.0\n",
       "4293      21.0\n",
       "4308      21.0\n",
       "4760      21.0\n",
       "4806      21.0\n",
       "Name: OfMealsFromFastFoodOrPizzaPlace, dtype: float64"
      ]
     },
     "execution_count": 82,
     "metadata": {},
     "output_type": "execute_result"
    }
   ],
   "source": [
    "top_scores_df = df.nlargest(n=10, columns='OfMealsFromFastFoodOrPizzaPlace')\n",
    "top_scores_df[\"OfMealsFromFastFoodOrPizzaPlace\"]"
   ]
  },
  {
   "cell_type": "markdown",
   "id": "dd46682d",
   "metadata": {},
   "source": [
    "To make the KDE plot usable for my selected variables, I am going to drop the 5 rows in the data where the 'OfMealsFromFastFoodOrPizzaPlace' variable has an extremely high value"
   ]
  },
  {
   "cell_type": "code",
   "execution_count": 83,
   "id": "7e9c5a35",
   "metadata": {},
   "outputs": [],
   "source": [
    "# idmax function shows the index value of the row where a specific column has its highest value\n",
    "max_index= df['OfMealsFromFastFoodOrPizzaPlace'].idxmax()\n",
    "df2=df.drop(max_index, inplace=False)\n",
    "max_index= df2['OfMealsFromFastFoodOrPizzaPlace'].idxmax()\n",
    "df2=df2.drop(max_index, inplace=False)\n",
    "max_index= df2['OfMealsFromFastFoodOrPizzaPlace'].idxmax()\n",
    "df2=df2.drop(max_index, inplace=False)\n",
    "max_index= df2['OfMealsFromFastFoodOrPizzaPlace'].idxmax()\n",
    "df2=df2.drop(max_index, inplace=False)\n",
    "max_index= df2['OfMealsFromFastFoodOrPizzaPlace'].idxmax()\n",
    "df2=df2.drop(max_index, inplace=False)\n"
   ]
  },
  {
   "cell_type": "code",
   "execution_count": 84,
   "id": "5a29352b",
   "metadata": {},
   "outputs": [
    {
     "data": {
      "image/png": "[encoded data removed]",
      "text/plain": [
       "<Figure size 640x480 with 1 Axes>"
      ]
     },
     "metadata": {},
     "output_type": "display_data"
    }
   ],
   "source": [
    "\n",
    "conditioner = 'HowHealthyIsTheDiet'\n",
    "sns.kdeplot( data=df2, x='OfMealsFromFastFoodOrPizzaPlace', hue=conditioner, common_norm=False ).set(title='KDE')\n",
    "plt.show()"
   ]
  },
  {
   "cell_type": "markdown",
   "id": "ff9d1c25",
   "metadata": {},
   "source": [
    "We can see from the updated KDE plot that the people who had a diet of \"Excellent\" or \"Very Good\" tended to have a higher density of their meals from a fast food or pizza place be closer to 0 and a steeper drop in density as the amount of fast food meals increased. "
   ]
  },
  {
   "cell_type": "markdown",
   "id": "b97e320c",
   "metadata": {},
   "source": [
    "3. \n",
    "We showed that the mean and median could be discovered by minimizing various kinds of loss functions; this is what machine learning is. To make a prediction $\\hat{y}(z)$ of $Y$ when $X=z$, minimize the mean squared error:\n",
    "$$\n",
    "MSE(\\hat{y}(z)) = \\dfrac{1}{N} \\sum_{i=1}^N \\left\\lbrace y_i - \\hat{y}(z) \\right\\rbrace^2 \\frac{1}{h}k\\left(\\frac{z-x_i}{h}\\right)\n",
    "$$\n",
    "Show that the solution to this problem is the LCLS/Naradaya-Watson estimator."
   ]
  },
  {
   "cell_type": "markdown",
   "id": "51210d78",
   "metadata": {},
   "source": [
    "To minimize the squared error, we need to take its derivative and set that equal to 0. The derivative of the MSE equation with respect to  $$ \\hat{y}(z) $$ and set to be equal to 0 is is\n",
    "\n",
    "$$\n",
    "d/d\\hat{y}(z)MSE= \\dfrac{1}{N} \\sum_{i=1}^N 2\\left\\lbrace y_i - \\hat{y}(z) \\right\\rbrace \\frac{1}{h}k\\left(\\frac{z-x_i}{h}\\right) = 0\n",
    "$$"
   ]
  },
  {
   "cell_type": "markdown",
   "id": "848d2efe",
   "metadata": {},
   "source": [
    "We can rearrange the equation to seperate the y_i and y_hat"
   ]
  },
  {
   "cell_type": "markdown",
   "id": "9e174766",
   "metadata": {},
   "source": [
    "$$\n",
    "\\dfrac{1}{N} \\sum_{i=1}^N 2 (y_i) \\frac{1}{h}k\\left(\\frac{z-x_i}{h}\\right) = \\dfrac{1}{N} \\sum_{i=1}^N 2\\left\\lbrace \\hat{y}(z) \\right\\rbrace \\frac{1}{h}k\\left(\\frac{z-x_i}{h}\\right)\n",
    "$$"
   ]
  },
  {
   "cell_type": "markdown",
   "id": "8282c015",
   "metadata": {},
   "source": [
    "We can get rid of the 2 on both sides"
   ]
  },
  {
   "cell_type": "markdown",
   "id": "78451a57",
   "metadata": {},
   "source": [
    "$$\n",
    "\\dfrac{1}{N} \\sum_{i=1}^N  y_i \\frac{1}{h}k\\left(\\frac{z-x_i}{h}\\right) = \\dfrac{1}{N} \\sum_{i=1}^N \\left\\lbrace \\hat{y}(z) \\right\\rbrace \\frac{1}{h}k\\left(\\frac{z-x_i}{h}\\right)\n",
    "$$"
   ]
  },
  {
   "cell_type": "markdown",
   "id": "7e95d3b5",
   "metadata": {},
   "source": [
    "We can then isolated the y_hat of z on the left side"
   ]
  },
  {
   "cell_type": "markdown",
   "id": "73d2533e",
   "metadata": {},
   "source": [
    "$$\n",
    "\\left\\lbrace \\hat{y}(z) \\right\\rbrace  = \\dfrac{1}{N} \\sum_{i=1}^N  y_i \\frac{1}{h}k\\left(\\frac{z-x_i}{h}\\right) /  \\dfrac{1}{N}\\sum_{i=1}^N \\frac{1}{h}k\\left(\\frac{z-x_i}{h}\\right)\n",
    "$$"
   ]
  },
  {
   "cell_type": "markdown",
   "id": "088ad45e",
   "metadata": {},
   "source": [
    "The LCLS estimator can be seen below:\n",
    "\n",
    "$$\n",
    "\\hat{y}_{N,h}(z) = \\dfrac{\\frac{1}{N} \\sum_{i=1}^N y_i \\times \\frac{1}{h}k\\left(\\frac{z-x_i}{h}\\right)}{\\frac{1}{N} \\sum_{i=1}^N \\frac{1}{h}k\\left(\\frac{z-x_i}{h} \\right)}\n",
    "$$"
   ]
  },
  {
   "cell_type": "markdown",
   "id": "d3d22d99",
   "metadata": {},
   "source": [
    "So, we can see when solving for the minimum of the MSE, we end up with the LCLS estimator."
   ]
  },
  {
   "cell_type": "markdown",
   "id": "98884d76",
   "metadata": {},
   "source": [
    "4. \n",
    "- Write a class or set of functions that implement the LCLS/Naradaya-Watson estimator, using the Silverman plug-in estimate for the conditioning variable $X$ as the bandwidth.\n",
    "- From one of the course data sets, find two numeric variables of interest, analyze their relationship with the the LCLS/Naradaya-Watson estimator, and discuss your results."
   ]
  },
  {
   "cell_type": "markdown",
   "id": "8ec21953",
   "metadata": {},
   "source": [
    "## I chose to skip this question and do the other 4."
   ]
  },
  {
   "cell_type": "markdown",
   "id": "0534c110",
   "metadata": {},
   "source": [
    "5. \n",
    "- In any of the available data sets, investigate the relationships between pairs of variables $(X,Y)$ with a scatterplot and CEF (for example, price on area)\n",
    "- Is this relationship plausibly causal, or are there missing variables that might explain at least part of the relationship between your variables? These can be \"conceptual\" rather than \"practical\"; for example, 'talent' or 'grit' probably explain education outcomes, but are almost impossible to measure. We are asking whether there are hypothetical **threats to causal identification** of the effect of $X$ on $Y$.\n",
    "- Explain how, regardless of the threat to causal identification, you can still use your model to predict $Y$ given $X$, as long as you don't intervene in the system to control the outcome"
   ]
  },
  {
   "cell_type": "markdown",
   "id": "e998b289",
   "metadata": {},
   "source": [
    "## Comparison of Overall Survival Months and Tumor Stage"
   ]
  },
  {
   "cell_type": "code",
   "execution_count": 90,
   "id": "dc5b5d8b",
   "metadata": {},
   "outputs": [],
   "source": [
    "df=  pd.read_csv(\"metabric.csv\")"
   ]
  },
  {
   "cell_type": "code",
   "execution_count": 95,
   "id": "f9106410",
   "metadata": {},
   "outputs": [
    {
     "data": {
      "text/plain": [
       "<Axes: xlabel='Tumor Stage', ylabel='Overall Survival (Months)'>"
      ]
     },
     "execution_count": 95,
     "metadata": {},
     "output_type": "execute_result"
    },
    {
     "data": {
      "image/png": "[encoded data removed]",
      "text/plain": [
       "<Figure size 640x480 with 1 Axes>"
      ]
     },
     "metadata": {},
     "output_type": "display_data"
    }
   ],
   "source": [
    "means = df.loc[:,['Overall Survival (Months)','Tumor Stage']].groupby(\"Tumor Stage\").mean()\n",
    "sns.scatterplot(data=df, y='Overall Survival (Months)', x='Tumor Stage',color='blue',alpha=.07, label='data')\n",
    "sns.lineplot(data=means, x='Tumor Stage',y='Overall Survival (Months)',color='orange', label='$\\\\widehat{\\\\mathbb{E}}[Y|X=x]$')"
   ]
  },
  {
   "cell_type": "markdown",
   "id": "9b3259d1",
   "metadata": {},
   "source": [
    "The relationship between Tumor stage and Overall Survival in months seems plausiblly casual, because the later the stage of the tumor the less time a person probably has to live due to their cancer. Obviously, other factors like the quality of the healthcare and treatment a person receives can also affect how long they live after being diagnosed with cancer. "
   ]
  },
  {
   "cell_type": "markdown",
   "id": "a7d9227a",
   "metadata": {},
   "source": [
    "The CEF is showing the relationship between tumour size and survival months, so it does not mean we know exactly the cause and effect relationship between the 2 variables. But this conditional expectation could still be as a model with some predictive power given their are trends that line up with surival months going down as tumor stage increases to the next stage. We can't identify the true nature of the relationship, but we can see that when Tumor Stage is equal to x, that Overall Survival months is around this mean. "
   ]
  },
  {
   "cell_type": "markdown",
   "id": "81add8c7",
   "metadata": {},
   "source": [
    "## Comparison of Tumor Mutational Burden and Tumor Size"
   ]
  },
  {
   "cell_type": "code",
   "execution_count": 94,
   "id": "c46dba0e",
   "metadata": {},
   "outputs": [
    {
     "data": {
      "image/png": "[encoded data removed]",
      "text/plain": [
       "<Figure size 640x480 with 1 Axes>"
      ]
     },
     "metadata": {},
     "output_type": "display_data"
    }
   ],
   "source": [
    "\n",
    "\n",
    "# Code from 02_using_information.ipynb\n",
    "x = df['TMB (nonsynonymous)']\n",
    "y = df['Tumor Size']\n",
    "\n",
    "def nbhd_mean(x,y,h=5, plot=True):\n",
    "    ''' Computes local constant least squares regression estimates with uniform kernel. '''\n",
    "    n = len(x) # Number of observations\n",
    "    grid = np.sort(x.unique()) # Extract and sort unique values for x\n",
    "    I = np.abs( x.to_numpy().reshape(-1,1)-grid.reshape(1,-1) ) <= h # Compute the kernel\n",
    "    numerator = y@I/(2*h) # Compute the numerator\n",
    "    denominator = np.sum(I,axis=0)/(2*h) # Compute denominator\n",
    "    y_hat = numerator/denominator # Compute estimator\n",
    "\n",
    "    if plot:\n",
    "        sns.scatterplot(data=df, y='Tumor Size', x='TMB (nonsynonymous)',color='blue',alpha=.2)\n",
    "        sns.lineplot(x=grid,y=y_hat, color='orange',label='$\\\\widehat{\\\\mathbb{E}}[Y|X=x]$')\n",
    "\n",
    "    return y_hat, grid\n",
    "y_hat, grid = nbhd_mean(x,y,h=10)\n"
   ]
  },
  {
   "cell_type": "markdown",
   "id": "3a1e2c63",
   "metadata": {},
   "source": [
    "The scatterplot above shows there is little pattern or clear relationship between Tumor Mutation Burden, TMB, and Tumour size. We can also see litle evidence of a relationsip based on the CEF, as the line displaying the CEF is almost completely horizontal.  The TMB variable is supposed to be measuring total number of non-synonymous, somatic mutations in a tumor's DNA (based on google searches). I thought that tumor with more mutations would end up being the tumors of the greater sizes."
   ]
  },
  {
   "cell_type": "markdown",
   "id": "5e5da4ee",
   "metadata": {},
   "source": [
    "Based on the plot above, it would not be advisable to use TMB to predict Tumor Size since there is little evidence of a relationship between the variables. But similar to my response for the last comparison, since we are not trying to understand the true nature of the relationship between the variables, we could use the conditional expectation as a predictive model. Since it is merely telling us what we expect our y to be given x, we are not saying their is an causal relationship but rather a trend. Unfortunately, between these variables there would be little to no predictive power based on the conditional expectation. "
   ]
  }
 ],
 "metadata": {
  "kernelspec": {
   "display_name": "base",
   "language": "python",
   "name": "python3"
  },
  "language_info": {
   "codemirror_mode": {
    "name": "ipython",
    "version": 3
   },
   "file_extension": ".py",
   "mimetype": "text/x-python",
   "name": "python",
   "nbconvert_exporter": "python",
   "pygments_lexer": "ipython3",
   "version": "3.13.5"
  }
 },
 "nbformat": 4,
 "nbformat_minor": 5
}
