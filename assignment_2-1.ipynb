{
 "cells": [
  {
   "cell_type": "markdown",
   "id": "87b91d83",
   "metadata": {},
   "source": [
    "# Assignment 2\n",
    "### Understanding Uncertainty\n",
    "### Due 9/12"
   ]
  },
  {
   "cell_type": "markdown",
   "id": "380e339f",
   "metadata": {},
   "source": [
    "1. 'State Bottle Retail' is the price at which the bottle is sold, while 'State Bottle Cost' is the price the state pays for a bottle.\n",
    "- How do you define the most profitable item? Why? Explain your thinking.\n",
    "- Use `.groupby` calculations to determine the most profitable liquors sold in Iowa.\n",
    "- Make a plot of the top liquors."
   ]
  },
  {
   "cell_type": "markdown",
   "id": "08e95c5f",
   "metadata": {},
   "source": [
    "Given that profit is generally calculated as a revenue minus cost, I think it would be important to calculate the difference in 'State Bottle Retail' and 'State Bottle Cost' for each item. Then to understand the most profitable, I would multiply the difference of the Retail price and Bottle Cost by the amount of bottles of that item being sold. The difference in retail price and state cost multiplied by the amount of bottles sold would give us how much profit was generated as a result of that specific item, based on this data set. "
   ]
  },
  {
   "cell_type": "code",
   "execution_count": 72,
   "id": "e9780189",
   "metadata": {},
   "outputs": [],
   "source": [
    "import pandas as pd\n",
    "import numpy as np\n",
    "import os\n",
    "import seaborn as sns\n",
    "import matplotlib.pyplot as plt"
   ]
  },
  {
   "cell_type": "code",
   "execution_count": 73,
   "id": "3f07274e",
   "metadata": {},
   "outputs": [
    {
     "data": {
      "text/html": [
       "<div>\n",
       "<style scoped>\n",
       "    .dataframe tbody tr th:only-of-type {\n",
       "        vertical-align: middle;\n",
       "    }\n",
       "\n",
       "    .dataframe tbody tr th {\n",
       "        vertical-align: top;\n",
       "    }\n",
       "\n",
       "    .dataframe thead th {\n",
       "        text-align: right;\n",
       "    }\n",
       "</style>\n",
       "<table border=\"1\" class=\"dataframe\">\n",
       "  <thead>\n",
       "    <tr style=\"text-align: right;\">\n",
       "      <th></th>\n",
       "      <th>Invoice/Item Number</th>\n",
       "      <th>Date</th>\n",
       "      <th>Store Number</th>\n",
       "      <th>Store Name</th>\n",
       "      <th>Zip Code</th>\n",
       "      <th>Category Name</th>\n",
       "      <th>Vendor Name</th>\n",
       "      <th>Item Number</th>\n",
       "      <th>Item Description</th>\n",
       "      <th>Bottle Volume (ml)</th>\n",
       "      <th>State Bottle Cost</th>\n",
       "      <th>State Bottle Retail</th>\n",
       "      <th>Bottles Sold</th>\n",
       "      <th>Sale (Dollars)</th>\n",
       "    </tr>\n",
       "  </thead>\n",
       "  <tbody>\n",
       "    <tr>\n",
       "      <th>0</th>\n",
       "      <td>INV-59108400026</td>\n",
       "      <td>06/06/2023</td>\n",
       "      <td>3723</td>\n",
       "      <td>J D SPIRITS LIQUOR</td>\n",
       "      <td>51040</td>\n",
       "      <td>STRAIGHT RYE WHISKIES</td>\n",
       "      <td>INFINIUM SPIRITS</td>\n",
       "      <td>27102</td>\n",
       "      <td>TEMPLETON RYE 4YR</td>\n",
       "      <td>750</td>\n",
       "      <td>18.09</td>\n",
       "      <td>27.14</td>\n",
       "      <td>2</td>\n",
       "      <td>54.28</td>\n",
       "    </tr>\n",
       "    <tr>\n",
       "      <th>1</th>\n",
       "      <td>S16879800057</td>\n",
       "      <td>01/16/2014</td>\n",
       "      <td>3926</td>\n",
       "      <td>LIQUOR DOWNTOWN / IOWA CITY</td>\n",
       "      <td>52240</td>\n",
       "      <td>VODKA 80 PROOF</td>\n",
       "      <td>HEAVEN HILL BRANDS</td>\n",
       "      <td>35416</td>\n",
       "      <td>BURNETT'S VODKA 80 PRF</td>\n",
       "      <td>750</td>\n",
       "      <td>4.84</td>\n",
       "      <td>7.26</td>\n",
       "      <td>12</td>\n",
       "      <td>87.12</td>\n",
       "    </tr>\n",
       "    <tr>\n",
       "      <th>2</th>\n",
       "      <td>INV-05301100019</td>\n",
       "      <td>06/05/2017</td>\n",
       "      <td>3829</td>\n",
       "      <td>GARY'S FOODS / MT VERNON</td>\n",
       "      <td>52314</td>\n",
       "      <td>CANADIAN WHISKIES</td>\n",
       "      <td>DIAGEO AMERICAS</td>\n",
       "      <td>11296</td>\n",
       "      <td>CROWN ROYAL</td>\n",
       "      <td>750</td>\n",
       "      <td>15.59</td>\n",
       "      <td>23.39</td>\n",
       "      <td>6</td>\n",
       "      <td>135.66</td>\n",
       "    </tr>\n",
       "    <tr>\n",
       "      <th>3</th>\n",
       "      <td>INV-40973500083</td>\n",
       "      <td>10/14/2021</td>\n",
       "      <td>5102</td>\n",
       "      <td>WILKIE LIQUORS</td>\n",
       "      <td>52314</td>\n",
       "      <td>AMERICAN SCHNAPPS</td>\n",
       "      <td>JIM BEAM BRANDS</td>\n",
       "      <td>82787</td>\n",
       "      <td>DEKUYPER BUTTERSHOTS</td>\n",
       "      <td>1000</td>\n",
       "      <td>7.87</td>\n",
       "      <td>11.81</td>\n",
       "      <td>12</td>\n",
       "      <td>141.72</td>\n",
       "    </tr>\n",
       "    <tr>\n",
       "      <th>4</th>\n",
       "      <td>INV-17022500013</td>\n",
       "      <td>01/18/2019</td>\n",
       "      <td>2560</td>\n",
       "      <td>HY-VEE FOOD STORE / MARION</td>\n",
       "      <td>52302</td>\n",
       "      <td>WHISKEY LIQUEUR</td>\n",
       "      <td>SAZERAC COMPANY  INC</td>\n",
       "      <td>64863</td>\n",
       "      <td>FIREBALL CINNAMON WHISKEY</td>\n",
       "      <td>200</td>\n",
       "      <td>2.50</td>\n",
       "      <td>3.75</td>\n",
       "      <td>12</td>\n",
       "      <td>45.00</td>\n",
       "    </tr>\n",
       "  </tbody>\n",
       "</table>\n",
       "</div>"
      ],
      "text/plain": [
       "  Invoice/Item Number        Date  Store Number                   Store Name  \\\n",
       "0     INV-59108400026  06/06/2023          3723           J D SPIRITS LIQUOR   \n",
       "1        S16879800057  01/16/2014          3926  LIQUOR DOWNTOWN / IOWA CITY   \n",
       "2     INV-05301100019  06/05/2017          3829     GARY'S FOODS / MT VERNON   \n",
       "3     INV-40973500083  10/14/2021          5102               WILKIE LIQUORS   \n",
       "4     INV-17022500013  01/18/2019          2560   HY-VEE FOOD STORE / MARION   \n",
       "\n",
       "  Zip Code          Category Name           Vendor Name  Item Number  \\\n",
       "0    51040  STRAIGHT RYE WHISKIES      INFINIUM SPIRITS        27102   \n",
       "1    52240         VODKA 80 PROOF    HEAVEN HILL BRANDS        35416   \n",
       "2    52314      CANADIAN WHISKIES       DIAGEO AMERICAS        11296   \n",
       "3    52314      AMERICAN SCHNAPPS       JIM BEAM BRANDS        82787   \n",
       "4    52302        WHISKEY LIQUEUR  SAZERAC COMPANY  INC        64863   \n",
       "\n",
       "            Item Description  Bottle Volume (ml)  State Bottle Cost  \\\n",
       "0          TEMPLETON RYE 4YR                 750              18.09   \n",
       "1     BURNETT'S VODKA 80 PRF                 750               4.84   \n",
       "2                CROWN ROYAL                 750              15.59   \n",
       "3       DEKUYPER BUTTERSHOTS                1000               7.87   \n",
       "4  FIREBALL CINNAMON WHISKEY                 200               2.50   \n",
       "\n",
       "   State Bottle Retail  Bottles Sold  Sale (Dollars)  \n",
       "0                27.14             2           54.28  \n",
       "1                 7.26            12           87.12  \n",
       "2                23.39             6          135.66  \n",
       "3                11.81            12          141.72  \n",
       "4                 3.75            12           45.00  "
      ]
     },
     "execution_count": 73,
     "metadata": {},
     "output_type": "execute_result"
    }
   ],
   "source": [
    "os.chdir(\"/Users/josephhudson/Desktop/DS_5030_HW_/data\")\n",
    "df=pd.read_csv(\"iowa.csv\")\n",
    "df.head()"
   ]
  },
  {
   "cell_type": "code",
   "execution_count": 74,
   "id": "a5fb2db1",
   "metadata": {},
   "outputs": [
    {
     "data": {
      "text/html": [
       "<div>\n",
       "<style scoped>\n",
       "    .dataframe tbody tr th:only-of-type {\n",
       "        vertical-align: middle;\n",
       "    }\n",
       "\n",
       "    .dataframe tbody tr th {\n",
       "        vertical-align: top;\n",
       "    }\n",
       "\n",
       "    .dataframe thead th {\n",
       "        text-align: right;\n",
       "    }\n",
       "</style>\n",
       "<table border=\"1\" class=\"dataframe\">\n",
       "  <thead>\n",
       "    <tr style=\"text-align: right;\">\n",
       "      <th></th>\n",
       "      <th>Invoice/Item Number</th>\n",
       "      <th>Date</th>\n",
       "      <th>Store Number</th>\n",
       "      <th>Store Name</th>\n",
       "      <th>Zip Code</th>\n",
       "      <th>Category Name</th>\n",
       "      <th>Vendor Name</th>\n",
       "      <th>Item Number</th>\n",
       "      <th>Item Description</th>\n",
       "      <th>Bottle Volume (ml)</th>\n",
       "      <th>State Bottle Cost</th>\n",
       "      <th>State Bottle Retail</th>\n",
       "      <th>Bottles Sold</th>\n",
       "      <th>Sale (Dollars)</th>\n",
       "      <th>Profit</th>\n",
       "    </tr>\n",
       "  </thead>\n",
       "  <tbody>\n",
       "    <tr>\n",
       "      <th>0</th>\n",
       "      <td>INV-59108400026</td>\n",
       "      <td>06/06/2023</td>\n",
       "      <td>3723</td>\n",
       "      <td>J D SPIRITS LIQUOR</td>\n",
       "      <td>51040</td>\n",
       "      <td>STRAIGHT RYE WHISKIES</td>\n",
       "      <td>INFINIUM SPIRITS</td>\n",
       "      <td>27102</td>\n",
       "      <td>TEMPLETON RYE 4YR</td>\n",
       "      <td>750</td>\n",
       "      <td>18.09</td>\n",
       "      <td>27.14</td>\n",
       "      <td>2</td>\n",
       "      <td>54.28</td>\n",
       "      <td>9.05</td>\n",
       "    </tr>\n",
       "    <tr>\n",
       "      <th>1</th>\n",
       "      <td>S16879800057</td>\n",
       "      <td>01/16/2014</td>\n",
       "      <td>3926</td>\n",
       "      <td>LIQUOR DOWNTOWN / IOWA CITY</td>\n",
       "      <td>52240</td>\n",
       "      <td>VODKA 80 PROOF</td>\n",
       "      <td>HEAVEN HILL BRANDS</td>\n",
       "      <td>35416</td>\n",
       "      <td>BURNETT'S VODKA 80 PRF</td>\n",
       "      <td>750</td>\n",
       "      <td>4.84</td>\n",
       "      <td>7.26</td>\n",
       "      <td>12</td>\n",
       "      <td>87.12</td>\n",
       "      <td>2.42</td>\n",
       "    </tr>\n",
       "    <tr>\n",
       "      <th>2</th>\n",
       "      <td>INV-05301100019</td>\n",
       "      <td>06/05/2017</td>\n",
       "      <td>3829</td>\n",
       "      <td>GARY'S FOODS / MT VERNON</td>\n",
       "      <td>52314</td>\n",
       "      <td>CANADIAN WHISKIES</td>\n",
       "      <td>DIAGEO AMERICAS</td>\n",
       "      <td>11296</td>\n",
       "      <td>CROWN ROYAL</td>\n",
       "      <td>750</td>\n",
       "      <td>15.59</td>\n",
       "      <td>23.39</td>\n",
       "      <td>6</td>\n",
       "      <td>135.66</td>\n",
       "      <td>7.80</td>\n",
       "    </tr>\n",
       "    <tr>\n",
       "      <th>3</th>\n",
       "      <td>INV-40973500083</td>\n",
       "      <td>10/14/2021</td>\n",
       "      <td>5102</td>\n",
       "      <td>WILKIE LIQUORS</td>\n",
       "      <td>52314</td>\n",
       "      <td>AMERICAN SCHNAPPS</td>\n",
       "      <td>JIM BEAM BRANDS</td>\n",
       "      <td>82787</td>\n",
       "      <td>DEKUYPER BUTTERSHOTS</td>\n",
       "      <td>1000</td>\n",
       "      <td>7.87</td>\n",
       "      <td>11.81</td>\n",
       "      <td>12</td>\n",
       "      <td>141.72</td>\n",
       "      <td>3.94</td>\n",
       "    </tr>\n",
       "    <tr>\n",
       "      <th>4</th>\n",
       "      <td>INV-17022500013</td>\n",
       "      <td>01/18/2019</td>\n",
       "      <td>2560</td>\n",
       "      <td>HY-VEE FOOD STORE / MARION</td>\n",
       "      <td>52302</td>\n",
       "      <td>WHISKEY LIQUEUR</td>\n",
       "      <td>SAZERAC COMPANY  INC</td>\n",
       "      <td>64863</td>\n",
       "      <td>FIREBALL CINNAMON WHISKEY</td>\n",
       "      <td>200</td>\n",
       "      <td>2.50</td>\n",
       "      <td>3.75</td>\n",
       "      <td>12</td>\n",
       "      <td>45.00</td>\n",
       "      <td>1.25</td>\n",
       "    </tr>\n",
       "    <tr>\n",
       "      <th>...</th>\n",
       "      <td>...</td>\n",
       "      <td>...</td>\n",
       "      <td>...</td>\n",
       "      <td>...</td>\n",
       "      <td>...</td>\n",
       "      <td>...</td>\n",
       "      <td>...</td>\n",
       "      <td>...</td>\n",
       "      <td>...</td>\n",
       "      <td>...</td>\n",
       "      <td>...</td>\n",
       "      <td>...</td>\n",
       "      <td>...</td>\n",
       "      <td>...</td>\n",
       "      <td>...</td>\n",
       "    </tr>\n",
       "    <tr>\n",
       "      <th>159899</th>\n",
       "      <td>INV-20689000058</td>\n",
       "      <td>07/17/2019</td>\n",
       "      <td>2565</td>\n",
       "      <td>HY-VEE FOOD STORE #1636 / SPENCER</td>\n",
       "      <td>51301</td>\n",
       "      <td>AMERICAN CORDIALS &amp; LIQUEURS</td>\n",
       "      <td>LUXCO INC</td>\n",
       "      <td>76488</td>\n",
       "      <td>PARAMOUNT AMARETTO</td>\n",
       "      <td>1750</td>\n",
       "      <td>8.07</td>\n",
       "      <td>12.11</td>\n",
       "      <td>6</td>\n",
       "      <td>72.66</td>\n",
       "      <td>4.04</td>\n",
       "    </tr>\n",
       "    <tr>\n",
       "      <th>159900</th>\n",
       "      <td>S05071400061</td>\n",
       "      <td>04/16/2012</td>\n",
       "      <td>3583</td>\n",
       "      <td>MAC'S LIQUOR AND VIDEOS</td>\n",
       "      <td>50060</td>\n",
       "      <td>COFFEE LIQUEURS</td>\n",
       "      <td>PERNOD RICARD USA/AUSTIN NICHOLS</td>\n",
       "      <td>67527</td>\n",
       "      <td>KAHLUA COFFEE LIQUEUR</td>\n",
       "      <td>1000</td>\n",
       "      <td>14.81</td>\n",
       "      <td>22.22</td>\n",
       "      <td>1</td>\n",
       "      <td>22.22</td>\n",
       "      <td>7.41</td>\n",
       "    </tr>\n",
       "    <tr>\n",
       "      <th>159901</th>\n",
       "      <td>INV-22880300009</td>\n",
       "      <td>10/29/2019</td>\n",
       "      <td>3896</td>\n",
       "      <td>SMOKIN' JOE'S #18 TOBACCO AND LIQUOR OUTLET</td>\n",
       "      <td>52240</td>\n",
       "      <td>IMPORTED DRY GINS</td>\n",
       "      <td>DIAGEO AMERICAS</td>\n",
       "      <td>28866</td>\n",
       "      <td>TANQUERAY GIN</td>\n",
       "      <td>750</td>\n",
       "      <td>13.50</td>\n",
       "      <td>20.25</td>\n",
       "      <td>2</td>\n",
       "      <td>40.50</td>\n",
       "      <td>6.75</td>\n",
       "    </tr>\n",
       "    <tr>\n",
       "      <th>159902</th>\n",
       "      <td>INV-58180900067</td>\n",
       "      <td>05/05/2023</td>\n",
       "      <td>4057</td>\n",
       "      <td>TEQUILA'S LIQUOR STORE</td>\n",
       "      <td>50316</td>\n",
       "      <td>NEUTRAL GRAIN SPIRITS FLAVORED</td>\n",
       "      <td>OLE SMOKY DISTILLERY LLC</td>\n",
       "      <td>80363</td>\n",
       "      <td>OLE SMOKY BANANA PUDDING CREAM MOONSHINE</td>\n",
       "      <td>750</td>\n",
       "      <td>13.00</td>\n",
       "      <td>19.50</td>\n",
       "      <td>3</td>\n",
       "      <td>58.50</td>\n",
       "      <td>6.50</td>\n",
       "    </tr>\n",
       "    <tr>\n",
       "      <th>159903</th>\n",
       "      <td>INV-64335600006</td>\n",
       "      <td>11/16/2023</td>\n",
       "      <td>5371</td>\n",
       "      <td>STATE FOOD MART</td>\n",
       "      <td>52722</td>\n",
       "      <td>STRAIGHT BOURBON WHISKIES</td>\n",
       "      <td>JIM BEAM BRANDS</td>\n",
       "      <td>20116</td>\n",
       "      <td>OLD GRAND DAD 114PRF</td>\n",
       "      <td>750</td>\n",
       "      <td>13.84</td>\n",
       "      <td>20.76</td>\n",
       "      <td>3</td>\n",
       "      <td>62.28</td>\n",
       "      <td>6.92</td>\n",
       "    </tr>\n",
       "  </tbody>\n",
       "</table>\n",
       "<p>159904 rows × 15 columns</p>\n",
       "</div>"
      ],
      "text/plain": [
       "       Invoice/Item Number        Date  Store Number  \\\n",
       "0          INV-59108400026  06/06/2023          3723   \n",
       "1             S16879800057  01/16/2014          3926   \n",
       "2          INV-05301100019  06/05/2017          3829   \n",
       "3          INV-40973500083  10/14/2021          5102   \n",
       "4          INV-17022500013  01/18/2019          2560   \n",
       "...                    ...         ...           ...   \n",
       "159899     INV-20689000058  07/17/2019          2565   \n",
       "159900        S05071400061  04/16/2012          3583   \n",
       "159901     INV-22880300009  10/29/2019          3896   \n",
       "159902     INV-58180900067  05/05/2023          4057   \n",
       "159903     INV-64335600006  11/16/2023          5371   \n",
       "\n",
       "                                         Store Name Zip Code  \\\n",
       "0                                J D SPIRITS LIQUOR    51040   \n",
       "1                       LIQUOR DOWNTOWN / IOWA CITY    52240   \n",
       "2                          GARY'S FOODS / MT VERNON    52314   \n",
       "3                                    WILKIE LIQUORS    52314   \n",
       "4                        HY-VEE FOOD STORE / MARION    52302   \n",
       "...                                             ...      ...   \n",
       "159899            HY-VEE FOOD STORE #1636 / SPENCER    51301   \n",
       "159900                      MAC'S LIQUOR AND VIDEOS    50060   \n",
       "159901  SMOKIN' JOE'S #18 TOBACCO AND LIQUOR OUTLET    52240   \n",
       "159902                       TEQUILA'S LIQUOR STORE    50316   \n",
       "159903                              STATE FOOD MART    52722   \n",
       "\n",
       "                         Category Name                       Vendor Name  \\\n",
       "0                STRAIGHT RYE WHISKIES                  INFINIUM SPIRITS   \n",
       "1                       VODKA 80 PROOF                HEAVEN HILL BRANDS   \n",
       "2                    CANADIAN WHISKIES                   DIAGEO AMERICAS   \n",
       "3                    AMERICAN SCHNAPPS                   JIM BEAM BRANDS   \n",
       "4                      WHISKEY LIQUEUR              SAZERAC COMPANY  INC   \n",
       "...                                ...                               ...   \n",
       "159899    AMERICAN CORDIALS & LIQUEURS                         LUXCO INC   \n",
       "159900                 COFFEE LIQUEURS  PERNOD RICARD USA/AUSTIN NICHOLS   \n",
       "159901               IMPORTED DRY GINS                   DIAGEO AMERICAS   \n",
       "159902  NEUTRAL GRAIN SPIRITS FLAVORED          OLE SMOKY DISTILLERY LLC   \n",
       "159903       STRAIGHT BOURBON WHISKIES                   JIM BEAM BRANDS   \n",
       "\n",
       "        Item Number                          Item Description  \\\n",
       "0             27102                         TEMPLETON RYE 4YR   \n",
       "1             35416                    BURNETT'S VODKA 80 PRF   \n",
       "2             11296                               CROWN ROYAL   \n",
       "3             82787                      DEKUYPER BUTTERSHOTS   \n",
       "4             64863                 FIREBALL CINNAMON WHISKEY   \n",
       "...             ...                                       ...   \n",
       "159899        76488                        PARAMOUNT AMARETTO   \n",
       "159900        67527                     KAHLUA COFFEE LIQUEUR   \n",
       "159901        28866                             TANQUERAY GIN   \n",
       "159902        80363  OLE SMOKY BANANA PUDDING CREAM MOONSHINE   \n",
       "159903        20116                      OLD GRAND DAD 114PRF   \n",
       "\n",
       "        Bottle Volume (ml)  State Bottle Cost  State Bottle Retail  \\\n",
       "0                      750              18.09                27.14   \n",
       "1                      750               4.84                 7.26   \n",
       "2                      750              15.59                23.39   \n",
       "3                     1000               7.87                11.81   \n",
       "4                      200               2.50                 3.75   \n",
       "...                    ...                ...                  ...   \n",
       "159899                1750               8.07                12.11   \n",
       "159900                1000              14.81                22.22   \n",
       "159901                 750              13.50                20.25   \n",
       "159902                 750              13.00                19.50   \n",
       "159903                 750              13.84                20.76   \n",
       "\n",
       "        Bottles Sold  Sale (Dollars)  Profit  \n",
       "0                  2           54.28    9.05  \n",
       "1                 12           87.12    2.42  \n",
       "2                  6          135.66    7.80  \n",
       "3                 12          141.72    3.94  \n",
       "4                 12           45.00    1.25  \n",
       "...              ...             ...     ...  \n",
       "159899             6           72.66    4.04  \n",
       "159900             1           22.22    7.41  \n",
       "159901             2           40.50    6.75  \n",
       "159902             3           58.50    6.50  \n",
       "159903             3           62.28    6.92  \n",
       "\n",
       "[159904 rows x 15 columns]"
      ]
     },
     "execution_count": 74,
     "metadata": {},
     "output_type": "execute_result"
    }
   ],
   "source": [
    "df[\"Profit\"]=df[\"State Bottle Retail\"]-df[\"State Bottle Cost\"]\n",
    "df"
   ]
  },
  {
   "cell_type": "code",
   "execution_count": 75,
   "id": "c5c2be42",
   "metadata": {},
   "outputs": [
    {
     "data": {
      "text/plain": [
       "Item Description\n",
       "TITOS HANDMADE VODKA                        15806.67\n",
       "FIREBALL CINNAMON WHISKEY MINI DISPENSER    13773.42\n",
       "BLACK VELVET                                13712.81\n",
       "CROWN ROYAL                                 11619.02\n",
       "CROWN ROYAL REGAL APPLE                     10789.51\n",
       "FIREBALL CINNAMON WHISKEY                    9374.52\n",
       "JIM BEAM                                     8659.23\n",
       "HAWKEYE VODKA                                8182.05\n",
       "JAMESON                                      7926.79\n",
       "HENNESSY VS                                  7921.71\n",
       "Name: Profit, dtype: float64"
      ]
     },
     "execution_count": 75,
     "metadata": {},
     "output_type": "execute_result"
    }
   ],
   "source": [
    "total_profit=df.groupby('Item Description')[\"Profit\"].sum().sort_values(ascending=False)[0:10]\n",
    "top_drinks=list(total_profit.index)\n",
    "total_profit\n"
   ]
  },
  {
   "cell_type": "markdown",
   "id": "79ba3b96",
   "metadata": {},
   "source": [
    "Above is the top 10 liquors by the total amount of profit generated. We can see Titos Handmade Vodka is the number one at over $15000."
   ]
  },
  {
   "cell_type": "code",
   "execution_count": 76,
   "id": "662f2da2",
   "metadata": {},
   "outputs": [],
   "source": [
    "top_10=df[df[\"Item Description\"].isin(top_drinks)]"
   ]
  },
  {
   "cell_type": "code",
   "execution_count": 77,
   "id": "b9758a3c",
   "metadata": {},
   "outputs": [
    {
     "data": {
      "image/png": "[encoded data removed]",
      "text/plain": [
       "<Figure size 640x480 with 1 Axes>"
      ]
     },
     "metadata": {},
     "output_type": "display_data"
    }
   ],
   "source": [
    "sns.barplot(y=total_profit.index,x=total_profit.values)\n",
    "plt.ylabel(\"Item Description\")\n",
    "plt.xlabel(\"Total Profit in USD\")\n",
    "\n",
    "plt.show()"
   ]
  },
  {
   "cell_type": "markdown",
   "id": "63593bde",
   "metadata": {},
   "source": [
    "2. This question is to further explore broadcasting in NumPy.\n",
    "\n",
    "- In the first code chunk below, there are two vectors, $x$ and $y$. What happens when you try to subtract them?\n",
    "- Instead, try `x.reshape(-1,1)-y.reshape(1,-1)`. What do you get?\n",
    "- Try `x.reshape(1,-1)-y.reshape(-1,1)`. Compare the results to your previous answer.\n",
    "- Write two double for-loops to replicate the results of the previous two answers. \n",
    "- Clearly explain how `x.reshape(1,-1)` and `x.reshape(-1,1)` change $x$"
   ]
  },
  {
   "cell_type": "code",
   "execution_count": 78,
   "id": "e29b3aac",
   "metadata": {},
   "outputs": [],
   "source": [
    "x = np.array([1,3,5])\n",
    "y = np.array([2,5])\n"
   ]
  },
  {
   "cell_type": "code",
   "execution_count": 79,
   "id": "c715c844",
   "metadata": {},
   "outputs": [
    {
     "data": {
      "text/plain": [
       "array([[-1, -4],\n",
       "       [ 1, -2],\n",
       "       [ 3,  0]])"
      ]
     },
     "execution_count": 79,
     "metadata": {},
     "output_type": "execute_result"
    }
   ],
   "source": [
    "x.reshape(-1,1)-y.reshape(1,-1)"
   ]
  },
  {
   "cell_type": "markdown",
   "id": "b5988030",
   "metadata": {},
   "source": [
    "If you subtract the two np arrays above from each other, you will get an error message because the vector do not share the same number of elements. "
   ]
  },
  {
   "cell_type": "code",
   "execution_count": 80,
   "id": "c28d850d",
   "metadata": {},
   "outputs": [
    {
     "data": {
      "text/plain": [
       "array([[-1, -4],\n",
       "       [ 1, -2],\n",
       "       [ 3,  0]])"
      ]
     },
     "execution_count": 80,
     "metadata": {},
     "output_type": "execute_result"
    }
   ],
   "source": [
    "x.reshape(-1,1)-y.reshape(1,-1)"
   ]
  },
  {
   "cell_type": "markdown",
   "id": "35119ebc",
   "metadata": {},
   "source": [
    "You get an array, with 3 elements, where each element of the array is a list of 2 elements."
   ]
  },
  {
   "cell_type": "code",
   "execution_count": 81,
   "id": "d2bfee1c",
   "metadata": {},
   "outputs": [
    {
     "data": {
      "text/plain": [
       "array([[-1,  1,  3],\n",
       "       [-4, -2,  0]])"
      ]
     },
     "execution_count": 81,
     "metadata": {},
     "output_type": "execute_result"
    }
   ],
   "source": [
    "x.reshape(1,-1)-y.reshape(-1,1)"
   ]
  },
  {
   "cell_type": "markdown",
   "id": "c2da0e73",
   "metadata": {},
   "source": [
    "You get an array, with 2 elements,  where each element of the array is a list of 3 elements. The last array was in shape a 3 x 2 array, whule this array is a 2 x 3 array with the same numbers. This second array is essentially the tranpose of the first array."
   ]
  },
  {
   "cell_type": "code",
   "execution_count": 82,
   "id": "251d8ff7",
   "metadata": {},
   "outputs": [
    {
     "name": "stdout",
     "output_type": "stream",
     "text": [
      "[[-1 -4]\n",
      " [ 1 -2]\n",
      " [ 3  0]]\n"
     ]
    }
   ],
   "source": [
    "## for loop for x.reshape(-1,1)-y.reshape(1,-1)\n",
    "\n",
    "empty_array = np.zeros((len(x),len(y)),dtype=int)\n",
    "for i in range(len(x)):\n",
    "    for j in range(len(y)):\n",
    "        empty_array[i,j] = x[i]-y[j]\n",
    "        \n",
    "print(empty_array)\n",
    "        "
   ]
  },
  {
   "cell_type": "code",
   "execution_count": 83,
   "id": "37b4fa50",
   "metadata": {},
   "outputs": [
    {
     "name": "stdout",
     "output_type": "stream",
     "text": [
      "[[-1  1  3]\n",
      " [-4 -2  0]]\n"
     ]
    }
   ],
   "source": [
    "## for loop for x.reshape(1,-1)-y.reshape(-1,1)\n",
    "empty_array2 = np.zeros((len(y),len(x)),dtype=int)\n",
    "for i in range(len(y)):\n",
    "    for j in range(len(x)):\n",
    "        empty_array2[i,j] = x[j]-y[i]\n",
    "        \n",
    "print(empty_array2)"
   ]
  },
  {
   "cell_type": "markdown",
   "id": "01ada121",
   "metadata": {},
   "source": [
    "# Explanation for what the reshape method is doing to x"
   ]
  },
  {
   "cell_type": "markdown",
   "id": "ea0fd542",
   "metadata": {},
   "source": [
    "x starts off as an numpy array with 3 elements, and essentially functions as a linear algebra vector. When using the .reshape(1,-1) method on x, the 3 elements from x are reshaped to a matrix of 1 x 3 dimensions, so each element from the original x is in the same row while being in different columns."
   ]
  },
  {
   "cell_type": "markdown",
   "id": "8b85915c",
   "metadata": {},
   "source": [
    "x when transformed using the .reshape(-1,1) method transforms again from a vector of 3 elements, but this time becomes as a 3 x 1 matrix with its original elements. Each of the original elements now have their own row but are all in the same column."
   ]
  },
  {
   "cell_type": "markdown",
   "id": "b29f1d35",
   "metadata": {},
   "source": [
    "3. The indicator function $\\mathbb{I}\\{ x \\le z \\}$ takes the value 0 if $x>z$ is false and 1 if $x \\le z$ is true.\n",
    "\n",
    "- For $y = 3$, plot the indicator function for any $z$\n",
    "- Explain how $ 1- \\mathbb{I}\\{ x \\le z \\} = \\mathbb{I}\\{ x > z \\}$. Drawing a plot might help, or looking at the definition that\n",
    "$$\n",
    "\\mathbb{I}\\{x \\le z\\} = \\begin{cases}\n",
    "0, &x > z \\\\\n",
    "1, &x \\le z\n",
    "\\end{cases}\n",
    "$$\n",
    "- The code below generates a random sample for different numbers of observations, $N = 3, 30, 300, 3000 $. Write a function to compute the ECDF curve for each sample, and plot your results.\n",
    "- Describe in your own words what happens to the ECDF qualitatively as the sample size $N$ increases"
   ]
  },
  {
   "cell_type": "code",
   "execution_count": 84,
   "id": "17ad7d01",
   "metadata": {},
   "outputs": [
    {
     "data": {
      "image/png": "[encoded data removed]",
      "text/plain": [
       "<Figure size 640x480 with 1 Axes>"
      ]
     },
     "metadata": {},
     "output_type": "display_data"
    },
    {
     "data": {
      "image/png": "[encoded data removed]",
      "text/plain": [
       "<Figure size 640x480 with 1 Axes>"
      ]
     },
     "metadata": {},
     "output_type": "display_data"
    },
    {
     "data": {
      "image/png": "[encoded data removed]",
      "text/plain": [
       "<Figure size 640x480 with 1 Axes>"
      ]
     },
     "metadata": {},
     "output_type": "display_data"
    },
    {
     "data": {
      "image/png": "[encoded data removed]",
      "text/plain": [
       "<Figure size 640x480 with 1 Axes>"
      ]
     },
     "metadata": {},
     "output_type": "display_data"
    }
   ],
   "source": [
    "import numpy as np\n",
    "import seaborn as sns\n",
    "\n",
    "rng = np.random.default_rng(100)\n",
    "    #I used the code for ecdf function from 01_visualizing_uncertainty.ipynb file\n",
    "def ecdf(x,plot=True):\n",
    "    # Compute ecdf function:\n",
    "    \n",
    "    Z = np.sort(np.unique(x)) # Extract and sort unique values for x\n",
    "    compare = x.reshape(-1,1) <= Z.reshape(1,-1) # Compare x and Z values\n",
    "    \n",
    "    ecdf = np.mean(compare,axis=0) # Average over x indices for each z\n",
    "\n",
    "    if plot:\n",
    "        # Plot the ecdf:\n",
    "        title_str = f'N={len(x)}'\n",
    "        plt.plot(Z,ecdf)\n",
    "        plt.title(f'Empirical ECDF: {title_str}')\n",
    "        plt.ylabel('Proportion')\n",
    "        plt.xlabel(title_str)\n",
    "\n",
    "    return ecdf, Z\n",
    "\n",
    "for N in [3,30,300,3000]:\n",
    "    X = (rng.normal(0,1,N))\n",
    "    plt.show()\n",
    "    plt.clf()\n",
    "    ecdf(X)\n"
   ]
  },
  {
   "cell_type": "markdown",
   "id": "86cd370b",
   "metadata": {},
   "source": [
    "The ECDF smoothes as N increases, with line itself showing the ecdf having less ridges. The ECDF is being fit on more and more data points, so the data is becoming more conitnuous in the sense there are more values close to each other, and the line of the ECDF will then jump around less dramtically and have less ridges. "
   ]
  },
  {
   "cell_type": "markdown",
   "id": "687e1f4a",
   "metadata": {},
   "source": []
  },
  {
   "cell_type": "markdown",
   "id": "232fe6b8",
   "metadata": {},
   "source": []
  },
  {
   "cell_type": "markdown",
   "id": "6c8f1ebb",
   "metadata": {},
   "source": [
    "4. A **quantile** generalizes the concept of the median so that instead of 50% of the mass below and 50% above, the $q$-quantile is the value for which $q$ proportion of the data are below that value and $(1-q)$ proportion of the data are above that value. This is a concept of **order**.\n",
    "\n",
    "- Write a function that computes any quantile without using Numpy's `np.quantile`\n",
    "- Write a function that computes the **Interquartile Range (IQR)** -- the .25 quantile and the .75 quantile, which brackets 50% of the data -- and the **whiskers**: $\\pm 1.5 \\times \\text{IQR}$ from the edges of the IQR\n",
    "- Write a function that computes a five-number summary and values for a boxplot: the minimum, the .25 quantile, the median, the .75 quantile, and the maximum, and the whiskers\n",
    "- Anything outside the whiskers is an **outlier**; write a function that returns a Boolean vector indicating if the observations are outliers.\n",
    "- For a numeric variable of your choice from one of the datasets, apply your functions from above, and compare your answers with `sns.boxplot` and `df.describe`. "
   ]
  },
  {
   "cell_type": "code",
   "execution_count": 85,
   "id": "78252eb8",
   "metadata": {},
   "outputs": [
    {
     "name": "stdout",
     "output_type": "stream",
     "text": [
      "7.5 7.5\n"
     ]
    }
   ],
   "source": [
    "def quantile(x,q):\n",
    "        x=np.sort(x)\n",
    "        n=len(x)\n",
    "        position=q*(n-1)\n",
    "        if position%1==0:\n",
    "            return x[int(position)]\n",
    "        else:\n",
    "            position=int(position)\n",
    "            return (x[position]+x[position+1])/2\n",
    "        \n",
    "              \n",
    "        \n",
    "    # Testing to make sure quantile function works same as numpy function    \n",
    "test= np.array([1,2,3,34,5,6,7,8,9,10,17,20])\n",
    "\n",
    "\n",
    "print(np.quantile(test,0.5),quantile(test,0.5))\n"
   ]
  },
  {
   "cell_type": "code",
   "execution_count": 86,
   "id": "dadc2b2f",
   "metadata": {},
   "outputs": [
    {
     "data": {
      "text/plain": [
       "range(0, 11)"
      ]
     },
     "execution_count": 86,
     "metadata": {},
     "output_type": "execute_result"
    }
   ],
   "source": [
    "t=range(11)\n",
    "t"
   ]
  },
  {
   "cell_type": "code",
   "execution_count": 87,
   "id": "59e08039",
   "metadata": {},
   "outputs": [
    {
     "data": {
      "text/plain": [
       "'q1: 4.0,q3: 13.5,iqr: 9.5,left_whisker: -10.25,right_whisker: 27.75'"
      ]
     },
     "execution_count": 87,
     "metadata": {},
     "output_type": "execute_result"
    }
   ],
   "source": [
    "def iqr_func (x):\n",
    "    q1=quantile(x,0.25)\n",
    "    q3=quantile(x,0.75)\n",
    "    iqr= q3 -q1\n",
    "    left_whisker=q1-(1.5*iqr)\n",
    "    right_whisker=q3+(1.5*iqr)\n",
    "    return f\"q1: {q1},q3: {q3},iqr: {iqr},left_whisker: {left_whisker},right_whisker: {right_whisker}\"\n",
    "\n",
    "iqr_func(test)"
   ]
  },
  {
   "cell_type": "code",
   "execution_count": 88,
   "id": "ce21e55f",
   "metadata": {},
   "outputs": [
    {
     "data": {
      "text/plain": [
       "'min: 1, q1: 4.0, median: 7.5, q3: 13.5,max: 34, left whsiker: -10.25, right whisker: 27.75'"
      ]
     },
     "execution_count": 88,
     "metadata": {},
     "output_type": "execute_result"
    }
   ],
   "source": [
    "def boxplot_summary(x):\n",
    "    sorted_array=np.sort(x)\n",
    "    minimum=sorted_array[0]\n",
    "    q1=quantile(x,0.25)\n",
    "    median=quantile(x,0.5)\n",
    "    q3=quantile(x,0.75)\n",
    "    iqr=q3-q1\n",
    "    maximum=sorted_array[-1]\n",
    "    left_whisker=q1-(1.5*iqr)\n",
    "    right_whisker=q3+(1.5*iqr)\n",
    "    return f\"min: {minimum}, q1: {q1}, median: {median}, q3: {q3},max: {maximum}, left whsiker: {left_whisker}, right whisker: {right_whisker}\"\n",
    "\n",
    "boxplot_summary(test)\n",
    "\n",
    "    "
   ]
  },
  {
   "cell_type": "code",
   "execution_count": 89,
   "id": "1db7860f",
   "metadata": {},
   "outputs": [
    {
     "data": {
      "text/plain": [
       "[False,\n",
       " False,\n",
       " False,\n",
       " True,\n",
       " False,\n",
       " False,\n",
       " False,\n",
       " False,\n",
       " False,\n",
       " False,\n",
       " False,\n",
       " False]"
      ]
     },
     "execution_count": 89,
     "metadata": {},
     "output_type": "execute_result"
    }
   ],
   "source": [
    "def outliers(x):\n",
    "    q1=quantile(x,0.25)\n",
    "    q3=quantile(x,0.75)\n",
    "    iqr=q3-q1\n",
    "    left_whisker=q1-(1.5*iqr)\n",
    "    right_whisker=q3+(1.5*iqr)\n",
    "    outlier_vector=[]\n",
    "    for i in range(len(x)):\n",
    "        if x[i]<left_whisker or x[i]>right_whisker:\n",
    "            outlier_vector.append(True)\n",
    "        else:\n",
    "            outlier_vector.append(False)\n",
    "    return outlier_vector\n",
    "\n",
    "outliers(test)"
   ]
  },
  {
   "cell_type": "markdown",
   "id": "2fb5fc5f",
   "metadata": {},
   "source": [
    "# Comparing my functions with sns.boxplot and df.describe"
   ]
  },
  {
   "cell_type": "code",
   "execution_count": 96,
   "id": "86e72c1d",
   "metadata": {},
   "outputs": [
    {
     "data": {
      "text/plain": [
       "'min: 20, q1: 750.0, median: 750.0, q3: 1000.0,max: 6000, left whsiker: 375.0, right whisker: 1375.0'"
      ]
     },
     "execution_count": 96,
     "metadata": {},
     "output_type": "execute_result"
    }
   ],
   "source": [
    "boxplot_summary(df['Bottle Volume (ml)'])"
   ]
  },
  {
   "cell_type": "code",
   "execution_count": 97,
   "id": "98a77320",
   "metadata": {},
   "outputs": [
    {
     "data": {
      "text/plain": [
       "<Axes: xlabel='Bottle Volume (ml)'>"
      ]
     },
     "execution_count": 97,
     "metadata": {},
     "output_type": "execute_result"
    },
    {
     "data": {
      "image/png": "[encoded data removed]",
      "text/plain": [
       "<Figure size 640x480 with 1 Axes>"
      ]
     },
     "metadata": {},
     "output_type": "display_data"
    }
   ],
   "source": [
    "sns.boxplot(data=df,x=\"Bottle Volume (ml)\",medianprops={'color': 'red', 'linewidth': 2})"
   ]
  },
  {
   "cell_type": "code",
   "execution_count": 94,
   "id": "1c151339",
   "metadata": {},
   "outputs": [
    {
     "data": {
      "text/plain": [
       "count    159904.000000\n",
       "mean        869.592737\n",
       "std         513.812818\n",
       "min          20.000000\n",
       "25%         750.000000\n",
       "50%         750.000000\n",
       "75%        1000.000000\n",
       "max        6000.000000\n",
       "Name: Bottle Volume (ml), dtype: float64"
      ]
     },
     "execution_count": 94,
     "metadata": {},
     "output_type": "execute_result"
    }
   ],
   "source": [
    "df[\"Bottle Volume (ml)\"].describe()"
   ]
  },
  {
   "cell_type": "markdown",
   "id": "d6430f1e",
   "metadata": {},
   "source": [
    "The output from the df.describe of the \"Bottle Volume (ml)\" in the iowa dataset matches all the shared values (like min, 25% quantile, etc) that my boxplot_summary function computes. The seaborn boxplot also appears to match the values of my function, as with a red line use to visualize the median we can see the median is at the left or lower part of the box itself, meaning the median is the same as first quartile which in this case is 750. "
   ]
  },
  {
   "cell_type": "markdown",
   "id": "99f4c407",
   "metadata": {},
   "source": [
    "5. The kernel density estimator captures the concentration of the data around various points, and is defined as\n",
    "$$\n",
    "\\hat{f}_{N,h}(z) = \\frac{1}{N} \\sum_{i=1}^N \\frac{1}{h} k \\left( \\frac{x_i - z}{h}\\right)\n",
    "$$\n",
    "where $h$ is the bandwidth and $k()$ is one of the kernel functions from the class materials (Gaussian, Epanechnikov, uniform, triangular).\n",
    "\n",
    "- Write a function that takes the bandwidth $h$ as given, and computes and plots $\\hat{f}_{N,h}(z)$, for the kernels listed in the slides\n",
    "- Write a function that computes the plug-in bandwidth\n",
    "- Use your functions to analyze some numeric variables from a dataset of your choice, using a variety of bandwidths\n",
    "- Compare bandwidths that are greater or less than the plug-in value with the results for the plug-in value. When does the KDE appear to be overfitting? Underfitting?"
   ]
  },
  {
   "cell_type": "markdown",
   "id": "f2e8471b",
   "metadata": {},
   "source": [
    "## Left Blank becasue we were told in an announcement on canvas to only do the first four"
   ]
  }
 ],
 "metadata": {
  "kernelspec": {
   "display_name": "base",
   "language": "python",
   "name": "python3"
  },
  "language_info": {
   "codemirror_mode": {
    "name": "ipython",
    "version": 3
   },
   "file_extension": ".py",
   "mimetype": "text/x-python",
   "name": "python",
   "nbconvert_exporter": "python",
   "pygments_lexer": "ipython3",
   "version": "3.13.5"
  }
 },
 "nbformat": 4,
 "nbformat_minor": 5
}
